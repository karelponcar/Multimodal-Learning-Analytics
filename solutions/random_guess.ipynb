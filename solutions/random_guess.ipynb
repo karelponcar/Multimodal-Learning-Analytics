{
 "cells": [
  {
   "cell_type": "markdown",
   "metadata": {
    "collapsed": false
   },
   "source": [
    "This is a base jupyter notebook for other solutions. It loads the dataset, splits it to the training part (90%) and testing part (10%). It does not learn anything, it just randomly guesses the score for each student in testing part. It generates the solution with random floats inbetween 0 and 10."
   ]
  },
  {
   "cell_type": "code",
   "execution_count": 16,
   "metadata": {
    "ExecuteTime": {
     "end_time": "2023-09-29T14:11:53.826308270Z",
     "start_time": "2023-09-29T14:11:53.729437294Z"
    },
    "collapsed": false
   },
   "outputs": [
    {
     "name": "stdout",
     "output_type": "stream",
     "text": [
      "The autoreload extension is already loaded. To reload it, use:\n",
      "  %reload_ext autoreload\n"
     ]
    }
   ],
   "source": [
    "%load_ext autoreload"
   ]
  },
  {
   "cell_type": "markdown",
   "metadata": {
    "collapsed": false
   },
   "source": [
    "Load libraries"
   ]
  },
  {
   "cell_type": "code",
   "execution_count": 17,
   "metadata": {
    "ExecuteTime": {
     "end_time": "2023-09-29T14:11:53.828966592Z",
     "start_time": "2023-09-29T14:11:53.793204456Z"
    },
    "collapsed": true
   },
   "outputs": [],
   "source": [
    "%autoreload\n",
    "\n",
    "# load libraries\n",
    "import pandas as pd\n",
    "import numpy as np\n",
    "from sklearn.model_selection import train_test_split\n",
    "from sklearn.metrics import mean_absolute_error"
   ]
  },
  {
   "cell_type": "code",
   "execution_count": 18,
   "metadata": {
    "ExecuteTime": {
     "end_time": "2023-09-29T14:11:53.849507476Z",
     "start_time": "2023-09-29T14:11:53.793593165Z"
    },
    "collapsed": false
   },
   "outputs": [],
   "source": [
    "# read the dataset\n",
    "dataset = pd.read_csv('../dataset/dataset.csv')\n",
    "\n",
    "\n",
    "# Define the features and the target variable\n",
    "target_variable = 'score'\n",
    "X = dataset.drop(columns=[target_variable])\n",
    "y = dataset[target_variable]\n",
    "\n",
    "# Split the dataset into training and testing part\n",
    "X_train, X_test, y_train, y_test = train_test_split(X, y, test_size=0.1)"
   ]
  },
  {
   "cell_type": "code",
   "execution_count": 19,
   "metadata": {},
   "outputs": [
    {
     "name": "stdout",
     "output_type": "stream",
     "text": [
      "(192, 90)\n",
      "(172, 89)\n",
      "(172,)\n",
      "(20, 89)\n",
      "(20,)\n"
     ]
    }
   ],
   "source": [
    "print(dataset.shape)\n",
    "print(X_train.shape)\n",
    "print(y_train.shape)\n",
    "print(X_test.shape)\n",
    "print(y_test.shape)"
   ]
  },
  {
   "cell_type": "code",
   "execution_count": 20,
   "metadata": {
    "ExecuteTime": {
     "end_time": "2023-09-29T14:11:53.913023039Z",
     "start_time": "2023-09-29T14:11:53.844549551Z"
    },
    "collapsed": false
   },
   "outputs": [
    {
     "data": {
      "text/html": [
       "<div>\n",
       "<style scoped>\n",
       "    .dataframe tbody tr th:only-of-type {\n",
       "        vertical-align: middle;\n",
       "    }\n",
       "\n",
       "    .dataframe tbody tr th {\n",
       "        vertical-align: top;\n",
       "    }\n",
       "\n",
       "    .dataframe thead th {\n",
       "        text-align: right;\n",
       "    }\n",
       "</style>\n",
       "<table border=\"1\" class=\"dataframe\">\n",
       "  <thead>\n",
       "    <tr style=\"text-align: right;\">\n",
       "      <th></th>\n",
       "      <th>V1</th>\n",
       "      <th>V2</th>\n",
       "      <th>V3</th>\n",
       "      <th>V4</th>\n",
       "      <th>V5</th>\n",
       "      <th>V6</th>\n",
       "      <th>V7</th>\n",
       "      <th>V8</th>\n",
       "      <th>V9</th>\n",
       "      <th>V10</th>\n",
       "      <th>...</th>\n",
       "      <th>AU26_r</th>\n",
       "      <th>AU45_r</th>\n",
       "      <th>bvpMean</th>\n",
       "      <th>bvpSD</th>\n",
       "      <th>edaMean</th>\n",
       "      <th>edaSD</th>\n",
       "      <th>hrMean</th>\n",
       "      <th>hrSD</th>\n",
       "      <th>tempMean</th>\n",
       "      <th>tempSD</th>\n",
       "    </tr>\n",
       "  </thead>\n",
       "  <tbody>\n",
       "    <tr>\n",
       "      <th>41</th>\n",
       "      <td>2.407352e+09</td>\n",
       "      <td>5.925252e+08</td>\n",
       "      <td>2.276973e+10</td>\n",
       "      <td>1.676752e+08</td>\n",
       "      <td>1.445056e+08</td>\n",
       "      <td>7.308956e+08</td>\n",
       "      <td>6.114219e+07</td>\n",
       "      <td>4.155716e+07</td>\n",
       "      <td>2.330313e+08</td>\n",
       "      <td>1.177435e+08</td>\n",
       "      <td>...</td>\n",
       "      <td>0.661913</td>\n",
       "      <td>0.660273</td>\n",
       "      <td>1.424132</td>\n",
       "      <td>0.927131</td>\n",
       "      <td>-0.005742</td>\n",
       "      <td>86.699887</td>\n",
       "      <td>78.807966</td>\n",
       "      <td>8.385079</td>\n",
       "      <td>26.639092</td>\n",
       "      <td>0.176392</td>\n",
       "    </tr>\n",
       "    <tr>\n",
       "      <th>181</th>\n",
       "      <td>1.991298e+07</td>\n",
       "      <td>1.643421e+07</td>\n",
       "      <td>3.859449e+08</td>\n",
       "      <td>4.583489e+08</td>\n",
       "      <td>1.040693e+08</td>\n",
       "      <td>4.914561e+09</td>\n",
       "      <td>2.745480e+08</td>\n",
       "      <td>1.089183e+08</td>\n",
       "      <td>3.666817e+09</td>\n",
       "      <td>6.399373e+07</td>\n",
       "      <td>...</td>\n",
       "      <td>0.413820</td>\n",
       "      <td>0.838832</td>\n",
       "      <td>0.070242</td>\n",
       "      <td>0.015269</td>\n",
       "      <td>0.018484</td>\n",
       "      <td>47.492311</td>\n",
       "      <td>64.041752</td>\n",
       "      <td>4.634410</td>\n",
       "      <td>29.728721</td>\n",
       "      <td>0.158746</td>\n",
       "    </tr>\n",
       "    <tr>\n",
       "      <th>157</th>\n",
       "      <td>4.156533e+08</td>\n",
       "      <td>1.120511e+08</td>\n",
       "      <td>5.193815e+09</td>\n",
       "      <td>4.957624e+08</td>\n",
       "      <td>1.030469e+08</td>\n",
       "      <td>5.188783e+09</td>\n",
       "      <td>4.144503e+08</td>\n",
       "      <td>1.406777e+08</td>\n",
       "      <td>4.680401e+09</td>\n",
       "      <td>4.834768e+08</td>\n",
       "      <td>...</td>\n",
       "      <td>1.267800</td>\n",
       "      <td>0.407404</td>\n",
       "      <td>0.045584</td>\n",
       "      <td>0.019438</td>\n",
       "      <td>-0.005400</td>\n",
       "      <td>22.180304</td>\n",
       "      <td>68.874782</td>\n",
       "      <td>4.236499</td>\n",
       "      <td>28.671321</td>\n",
       "      <td>1.164378</td>\n",
       "    </tr>\n",
       "    <tr>\n",
       "      <th>188</th>\n",
       "      <td>4.819241e+08</td>\n",
       "      <td>1.244406e+08</td>\n",
       "      <td>4.695223e+09</td>\n",
       "      <td>4.864199e+08</td>\n",
       "      <td>1.156995e+08</td>\n",
       "      <td>5.475101e+09</td>\n",
       "      <td>4.359657e+08</td>\n",
       "      <td>1.383920e+08</td>\n",
       "      <td>4.931900e+09</td>\n",
       "      <td>4.809684e+08</td>\n",
       "      <td>...</td>\n",
       "      <td>0.056457</td>\n",
       "      <td>0.527944</td>\n",
       "      <td>0.227832</td>\n",
       "      <td>0.088535</td>\n",
       "      <td>0.045250</td>\n",
       "      <td>77.018654</td>\n",
       "      <td>76.179569</td>\n",
       "      <td>9.042601</td>\n",
       "      <td>31.187833</td>\n",
       "      <td>0.190889</td>\n",
       "    </tr>\n",
       "    <tr>\n",
       "      <th>165</th>\n",
       "      <td>6.892571e+09</td>\n",
       "      <td>3.247586e+09</td>\n",
       "      <td>3.594896e+10</td>\n",
       "      <td>4.076879e+08</td>\n",
       "      <td>1.348846e+08</td>\n",
       "      <td>3.948778e+09</td>\n",
       "      <td>2.375873e+07</td>\n",
       "      <td>2.532844e+07</td>\n",
       "      <td>1.017021e+08</td>\n",
       "      <td>5.058697e+08</td>\n",
       "      <td>...</td>\n",
       "      <td>0.571542</td>\n",
       "      <td>0.384190</td>\n",
       "      <td>1.362793</td>\n",
       "      <td>1.298501</td>\n",
       "      <td>-0.002277</td>\n",
       "      <td>128.339946</td>\n",
       "      <td>99.597148</td>\n",
       "      <td>13.666950</td>\n",
       "      <td>29.946119</td>\n",
       "      <td>1.043174</td>\n",
       "    </tr>\n",
       "  </tbody>\n",
       "</table>\n",
       "<p>5 rows × 89 columns</p>\n",
       "</div>"
      ],
      "text/plain": [
       "               V1            V2            V3            V4            V5  \\\n",
       "41   2.407352e+09  5.925252e+08  2.276973e+10  1.676752e+08  1.445056e+08   \n",
       "181  1.991298e+07  1.643421e+07  3.859449e+08  4.583489e+08  1.040693e+08   \n",
       "157  4.156533e+08  1.120511e+08  5.193815e+09  4.957624e+08  1.030469e+08   \n",
       "188  4.819241e+08  1.244406e+08  4.695223e+09  4.864199e+08  1.156995e+08   \n",
       "165  6.892571e+09  3.247586e+09  3.594896e+10  4.076879e+08  1.348846e+08   \n",
       "\n",
       "               V6            V7            V8            V9           V10  \\\n",
       "41   7.308956e+08  6.114219e+07  4.155716e+07  2.330313e+08  1.177435e+08   \n",
       "181  4.914561e+09  2.745480e+08  1.089183e+08  3.666817e+09  6.399373e+07   \n",
       "157  5.188783e+09  4.144503e+08  1.406777e+08  4.680401e+09  4.834768e+08   \n",
       "188  5.475101e+09  4.359657e+08  1.383920e+08  4.931900e+09  4.809684e+08   \n",
       "165  3.948778e+09  2.375873e+07  2.532844e+07  1.017021e+08  5.058697e+08   \n",
       "\n",
       "     ...    AU26_r    AU45_r   bvpMean     bvpSD   edaMean       edaSD  \\\n",
       "41   ...  0.661913  0.660273  1.424132  0.927131 -0.005742   86.699887   \n",
       "181  ...  0.413820  0.838832  0.070242  0.015269  0.018484   47.492311   \n",
       "157  ...  1.267800  0.407404  0.045584  0.019438 -0.005400   22.180304   \n",
       "188  ...  0.056457  0.527944  0.227832  0.088535  0.045250   77.018654   \n",
       "165  ...  0.571542  0.384190  1.362793  1.298501 -0.002277  128.339946   \n",
       "\n",
       "        hrMean       hrSD   tempMean    tempSD  \n",
       "41   78.807966   8.385079  26.639092  0.176392  \n",
       "181  64.041752   4.634410  29.728721  0.158746  \n",
       "157  68.874782   4.236499  28.671321  1.164378  \n",
       "188  76.179569   9.042601  31.187833  0.190889  \n",
       "165  99.597148  13.666950  29.946119  1.043174  \n",
       "\n",
       "[5 rows x 89 columns]"
      ]
     },
     "execution_count": 20,
     "metadata": {},
     "output_type": "execute_result"
    }
   ],
   "source": [
    "X_train.head()"
   ]
  },
  {
   "cell_type": "code",
   "execution_count": 21,
   "metadata": {
    "ExecuteTime": {
     "end_time": "2023-09-29T14:11:53.913506299Z",
     "start_time": "2023-09-29T14:11:53.885443255Z"
    },
    "collapsed": false
   },
   "outputs": [
    {
     "name": "stdout",
     "output_type": "stream",
     "text": [
      "Random Guess MAE: 2.8264910102893666\n"
     ]
    }
   ],
   "source": [
    "# generate random predictions with the same length as y_test\n",
    "random_predictions = np.random.uniform(low=0, high=10, size=len(y_test))\n",
    "\n",
    "# calculate the mean absolute error\n",
    "mae = mean_absolute_error(y_test, random_predictions)\n",
    "\n",
    "print(f\"mean absolute error of random predictions: {mae}\")"
   ]
  }
 ],
 "metadata": {
  "kernelspec": {
   "display_name": "Python 3",
   "language": "python",
   "name": "python3"
  },
  "language_info": {
   "codemirror_mode": {
    "name": "ipython",
    "version": 3
   },
   "file_extension": ".py",
   "mimetype": "text/x-python",
   "name": "python",
   "nbconvert_exporter": "python",
   "pygments_lexer": "ipython3",
   "version": "3.9.12"
  }
 },
 "nbformat": 4,
 "nbformat_minor": 0
}
