{
 "cells": [
  {
   "cell_type": "markdown",
   "metadata": {
    "collapsed": false
   },
   "source": [
    "This is a base jupyter notebook for other solutions. It loads the dataset, splits it to the training part (90%) and testing part (10%). It does not learn anything, it just randomly guesses the score for each student in testing part. It generates the solution with random floats inbetween 0 and 10."
   ]
  },
  {
   "cell_type": "code",
   "execution_count": 1,
   "metadata": {
    "collapsed": false,
    "ExecuteTime": {
     "end_time": "2023-11-13T15:17:26.428810159Z",
     "start_time": "2023-11-13T15:17:26.411227877Z"
    }
   },
   "outputs": [],
   "source": [
    "%load_ext autoreload"
   ]
  },
  {
   "cell_type": "markdown",
   "metadata": {
    "collapsed": false
   },
   "source": [
    "Load libraries"
   ]
  },
  {
   "cell_type": "code",
   "execution_count": 2,
   "metadata": {
    "collapsed": true,
    "ExecuteTime": {
     "end_time": "2023-11-13T15:17:26.528379071Z",
     "start_time": "2023-11-13T15:17:26.431477889Z"
    }
   },
   "outputs": [],
   "source": [
    "%autoreload\n",
    "\n",
    "# load libraries\n",
    "import pandas as pd\n",
    "import numpy as np\n",
    "from sklearn.model_selection import train_test_split\n",
    "from sklearn.metrics import mean_absolute_error\n",
    "import seaborn as sns"
   ]
  },
  {
   "cell_type": "code",
   "execution_count": 3,
   "metadata": {
    "collapsed": false,
    "ExecuteTime": {
     "end_time": "2023-11-13T15:17:26.576421124Z",
     "start_time": "2023-11-13T15:17:26.529944844Z"
    }
   },
   "outputs": [],
   "source": [
    "# read the dataset\n",
    "dataset = pd.read_csv('../dataset/dataset.csv')\n",
    "\n",
    "\n",
    "# Define the features and the target variable\n",
    "target_variable = 'score'\n",
    "X = dataset.drop(columns=[target_variable])\n",
    "y = dataset[target_variable]\n",
    "\n",
    "# Split the dataset into training and testing part\n",
    "X_train, X_test, y_train, y_test = train_test_split(X, y, test_size=0.1, random_state=42)"
   ]
  },
  {
   "cell_type": "code",
   "execution_count": 4,
   "metadata": {
    "ExecuteTime": {
     "end_time": "2023-11-13T15:17:26.577094395Z",
     "start_time": "2023-11-13T15:17:26.574884195Z"
    }
   },
   "outputs": [
    {
     "name": "stdout",
     "output_type": "stream",
     "text": [
      "(192, 90)\n",
      "(172, 89)\n",
      "(172,)\n",
      "(20, 89)\n",
      "(20,)\n"
     ]
    }
   ],
   "source": [
    "print(dataset.shape)\n",
    "print(X_train.shape)\n",
    "print(y_train.shape)\n",
    "print(X_test.shape)\n",
    "print(y_test.shape)"
   ]
  },
  {
   "cell_type": "code",
   "execution_count": 5,
   "metadata": {
    "collapsed": false,
    "ExecuteTime": {
     "end_time": "2023-11-13T15:17:26.578612676Z",
     "start_time": "2023-11-13T15:17:26.575178926Z"
    }
   },
   "outputs": [
    {
     "data": {
      "text/plain": "               V1            V2            V3            V4            V5  \\\n171  4.404851e+08  1.311308e+08  5.049441e+09  4.196730e+08  1.115163e+08   \n154  7.239636e+06  8.170686e+06  2.621700e+07  4.342179e+08  1.204079e+08   \n118  1.785853e+08  8.682056e+07  7.418208e+08  9.282951e+07  7.240862e+07   \n98   6.566649e+08  3.884034e+08  5.526463e+09  1.601020e+08  5.707375e+07   \n67   4.121355e+07  1.271017e+07  3.492935e+08  9.544370e+06  7.447917e+06   \n\n               V6            V7            V8            V9           V10  \\\n171  4.727086e+09  2.429141e+07  2.376411e+07  6.885687e+07  4.904046e+08   \n154  5.606102e+09  8.647074e+07  7.706806e+07  2.529185e+08  3.126816e+07   \n118  2.226409e+08  5.745947e+07  3.631179e+07  2.275878e+08  1.100307e+08   \n98   2.627991e+09  3.659389e+07  2.206944e+07  3.396292e+08  7.820764e+08   \n67   8.233532e+07  7.813994e+07  4.007237e+07  5.660280e+08  1.994581e+07   \n\n     ...    AU26_r    AU45_r   bvpMean     bvpSD   edaMean      edaSD  \\\n171  ...  0.451754  0.705448  0.147200  0.045858  0.000702  26.024393   \n154  ...  0.535220  0.155112  2.597406  1.389005  0.060457  48.827638   \n118  ...  0.129721  0.089213  1.056684  0.305653 -0.011069  70.943485   \n98   ...  0.102364  0.545976  0.459527  0.173697  0.001542  58.072838   \n67   ...  0.075930  0.044395  2.775224  1.234032  0.019598  46.891758   \n\n        hrMean       hrSD   tempMean    tempSD  \n171  68.928112   2.926986  29.804768  0.916886  \n154  81.292703  17.191935  31.752441  4.707453  \n118  74.424331   3.771930  29.488789  0.123848  \n98   85.498165  11.850344  31.233476  1.372200  \n67   79.440945  11.297236  33.697428  0.247517  \n\n[5 rows x 89 columns]",
      "text/html": "<div>\n<style scoped>\n    .dataframe tbody tr th:only-of-type {\n        vertical-align: middle;\n    }\n\n    .dataframe tbody tr th {\n        vertical-align: top;\n    }\n\n    .dataframe thead th {\n        text-align: right;\n    }\n</style>\n<table border=\"1\" class=\"dataframe\">\n  <thead>\n    <tr style=\"text-align: right;\">\n      <th></th>\n      <th>V1</th>\n      <th>V2</th>\n      <th>V3</th>\n      <th>V4</th>\n      <th>V5</th>\n      <th>V6</th>\n      <th>V7</th>\n      <th>V8</th>\n      <th>V9</th>\n      <th>V10</th>\n      <th>...</th>\n      <th>AU26_r</th>\n      <th>AU45_r</th>\n      <th>bvpMean</th>\n      <th>bvpSD</th>\n      <th>edaMean</th>\n      <th>edaSD</th>\n      <th>hrMean</th>\n      <th>hrSD</th>\n      <th>tempMean</th>\n      <th>tempSD</th>\n    </tr>\n  </thead>\n  <tbody>\n    <tr>\n      <th>171</th>\n      <td>4.404851e+08</td>\n      <td>1.311308e+08</td>\n      <td>5.049441e+09</td>\n      <td>4.196730e+08</td>\n      <td>1.115163e+08</td>\n      <td>4.727086e+09</td>\n      <td>2.429141e+07</td>\n      <td>2.376411e+07</td>\n      <td>6.885687e+07</td>\n      <td>4.904046e+08</td>\n      <td>...</td>\n      <td>0.451754</td>\n      <td>0.705448</td>\n      <td>0.147200</td>\n      <td>0.045858</td>\n      <td>0.000702</td>\n      <td>26.024393</td>\n      <td>68.928112</td>\n      <td>2.926986</td>\n      <td>29.804768</td>\n      <td>0.916886</td>\n    </tr>\n    <tr>\n      <th>154</th>\n      <td>7.239636e+06</td>\n      <td>8.170686e+06</td>\n      <td>2.621700e+07</td>\n      <td>4.342179e+08</td>\n      <td>1.204079e+08</td>\n      <td>5.606102e+09</td>\n      <td>8.647074e+07</td>\n      <td>7.706806e+07</td>\n      <td>2.529185e+08</td>\n      <td>3.126816e+07</td>\n      <td>...</td>\n      <td>0.535220</td>\n      <td>0.155112</td>\n      <td>2.597406</td>\n      <td>1.389005</td>\n      <td>0.060457</td>\n      <td>48.827638</td>\n      <td>81.292703</td>\n      <td>17.191935</td>\n      <td>31.752441</td>\n      <td>4.707453</td>\n    </tr>\n    <tr>\n      <th>118</th>\n      <td>1.785853e+08</td>\n      <td>8.682056e+07</td>\n      <td>7.418208e+08</td>\n      <td>9.282951e+07</td>\n      <td>7.240862e+07</td>\n      <td>2.226409e+08</td>\n      <td>5.745947e+07</td>\n      <td>3.631179e+07</td>\n      <td>2.275878e+08</td>\n      <td>1.100307e+08</td>\n      <td>...</td>\n      <td>0.129721</td>\n      <td>0.089213</td>\n      <td>1.056684</td>\n      <td>0.305653</td>\n      <td>-0.011069</td>\n      <td>70.943485</td>\n      <td>74.424331</td>\n      <td>3.771930</td>\n      <td>29.488789</td>\n      <td>0.123848</td>\n    </tr>\n    <tr>\n      <th>98</th>\n      <td>6.566649e+08</td>\n      <td>3.884034e+08</td>\n      <td>5.526463e+09</td>\n      <td>1.601020e+08</td>\n      <td>5.707375e+07</td>\n      <td>2.627991e+09</td>\n      <td>3.659389e+07</td>\n      <td>2.206944e+07</td>\n      <td>3.396292e+08</td>\n      <td>7.820764e+08</td>\n      <td>...</td>\n      <td>0.102364</td>\n      <td>0.545976</td>\n      <td>0.459527</td>\n      <td>0.173697</td>\n      <td>0.001542</td>\n      <td>58.072838</td>\n      <td>85.498165</td>\n      <td>11.850344</td>\n      <td>31.233476</td>\n      <td>1.372200</td>\n    </tr>\n    <tr>\n      <th>67</th>\n      <td>4.121355e+07</td>\n      <td>1.271017e+07</td>\n      <td>3.492935e+08</td>\n      <td>9.544370e+06</td>\n      <td>7.447917e+06</td>\n      <td>8.233532e+07</td>\n      <td>7.813994e+07</td>\n      <td>4.007237e+07</td>\n      <td>5.660280e+08</td>\n      <td>1.994581e+07</td>\n      <td>...</td>\n      <td>0.075930</td>\n      <td>0.044395</td>\n      <td>2.775224</td>\n      <td>1.234032</td>\n      <td>0.019598</td>\n      <td>46.891758</td>\n      <td>79.440945</td>\n      <td>11.297236</td>\n      <td>33.697428</td>\n      <td>0.247517</td>\n    </tr>\n  </tbody>\n</table>\n<p>5 rows × 89 columns</p>\n</div>"
     },
     "execution_count": 5,
     "metadata": {},
     "output_type": "execute_result"
    }
   ],
   "source": [
    "X_train.head()"
   ]
  },
  {
   "cell_type": "code",
   "execution_count": 6,
   "metadata": {
    "collapsed": false,
    "ExecuteTime": {
     "end_time": "2023-11-13T15:17:26.657371098Z",
     "start_time": "2023-11-13T15:17:26.575470863Z"
    }
   },
   "outputs": [
    {
     "name": "stdout",
     "output_type": "stream",
     "text": [
      "mean absolute error of random predictions: 2.9517411236249114\n"
     ]
    }
   ],
   "source": [
    "# generate random predictions with the same length as y_test\n",
    "random_predictions = np.random.uniform(low=0, high=10, size=len(y_test))\n",
    "\n",
    "# calculate the mean absolute error\n",
    "mae = mean_absolute_error(y_test, random_predictions)\n",
    "\n",
    "print(f\"mean absolute error of random predictions: {mae}\")"
   ]
  },
  {
   "cell_type": "code",
   "execution_count": 7,
   "outputs": [
    {
     "name": "stdout",
     "output_type": "stream",
     "text": [
      "R2 score: 0.4619795056710946\n",
      "mean absolute error of regression tree: 0.6657295008304702\n"
     ]
    },
    {
     "data": {
      "image/svg+xml": "<?xml version=\"1.0\" encoding=\"UTF-8\" standalone=\"no\"?>\n<!DOCTYPE svg PUBLIC \"-//W3C//DTD SVG 1.1//EN\"\n \"http://www.w3.org/Graphics/SVG/1.1/DTD/svg11.dtd\">\n<!-- Generated by graphviz version 2.43.0 (0)\n -->\n<!-- Title: Tree Pages: 1 -->\n<svg width=\"957pt\" height=\"477pt\"\n viewBox=\"0.00 0.00 957.00 477.00\" xmlns=\"http://www.w3.org/2000/svg\" xmlns:xlink=\"http://www.w3.org/1999/xlink\">\n<g id=\"graph0\" class=\"graph\" transform=\"scale(1 1) rotate(0) translate(4 473)\">\n<title>Tree</title>\n<polygon fill=\"white\" stroke=\"transparent\" points=\"-4,4 -4,-473 953,-473 953,4 -4,4\"/>\n<!-- 0 -->\n<g id=\"node1\" class=\"node\">\n<title>0</title>\n<polygon fill=\"#f3c6a5\" stroke=\"black\" points=\"464,-469 289,-469 289,-401 464,-401 464,-469\"/>\n<text text-anchor=\"middle\" x=\"376.5\" y=\"-453.8\" font-family=\"Helvetica,sans-Serif\" font-size=\"14.00\">V18 &lt;= 274018304.0</text>\n<text text-anchor=\"middle\" x=\"376.5\" y=\"-438.8\" font-family=\"Helvetica,sans-Serif\" font-size=\"14.00\">squared_error = 1.107</text>\n<text text-anchor=\"middle\" x=\"376.5\" y=\"-423.8\" font-family=\"Helvetica,sans-Serif\" font-size=\"14.00\">samples = 172</text>\n<text text-anchor=\"middle\" x=\"376.5\" y=\"-408.8\" font-family=\"Helvetica,sans-Serif\" font-size=\"14.00\">value = 6.428</text>\n</g>\n<!-- 1 -->\n<g id=\"node2\" class=\"node\">\n<title>1</title>\n<polygon fill=\"#eda877\" stroke=\"black\" points=\"368,-365 193,-365 193,-297 368,-297 368,-365\"/>\n<text text-anchor=\"middle\" x=\"280.5\" y=\"-349.8\" font-family=\"Helvetica,sans-Serif\" font-size=\"14.00\">V1 &lt;= 142528112.0</text>\n<text text-anchor=\"middle\" x=\"280.5\" y=\"-334.8\" font-family=\"Helvetica,sans-Serif\" font-size=\"14.00\">squared_error = 0.659</text>\n<text text-anchor=\"middle\" x=\"280.5\" y=\"-319.8\" font-family=\"Helvetica,sans-Serif\" font-size=\"14.00\">samples = 65</text>\n<text text-anchor=\"middle\" x=\"280.5\" y=\"-304.8\" font-family=\"Helvetica,sans-Serif\" font-size=\"14.00\">value = 7.135</text>\n</g>\n<!-- 0&#45;&gt;1 -->\n<g id=\"edge1\" class=\"edge\">\n<title>0&#45;&gt;1</title>\n<path fill=\"none\" stroke=\"black\" d=\"M345.33,-400.88C336.86,-391.89 327.6,-382.04 318.79,-372.68\"/>\n<polygon fill=\"black\" stroke=\"black\" points=\"321.24,-370.18 311.84,-365.3 316.15,-374.98 321.24,-370.18\"/>\n<text text-anchor=\"middle\" x=\"311.08\" y=\"-386.59\" font-family=\"Helvetica,sans-Serif\" font-size=\"14.00\">True</text>\n</g>\n<!-- 4 -->\n<g id=\"node5\" class=\"node\">\n<title>4</title>\n<polygon fill=\"#f7d8c1\" stroke=\"black\" points=\"556.5,-365 390.5,-365 390.5,-297 556.5,-297 556.5,-365\"/>\n<text text-anchor=\"middle\" x=\"473.5\" y=\"-349.8\" font-family=\"Helvetica,sans-Serif\" font-size=\"14.00\">V8 &lt;= 112775864.0</text>\n<text text-anchor=\"middle\" x=\"473.5\" y=\"-334.8\" font-family=\"Helvetica,sans-Serif\" font-size=\"14.00\">squared_error = 0.89</text>\n<text text-anchor=\"middle\" x=\"473.5\" y=\"-319.8\" font-family=\"Helvetica,sans-Serif\" font-size=\"14.00\">samples = 107</text>\n<text text-anchor=\"middle\" x=\"473.5\" y=\"-304.8\" font-family=\"Helvetica,sans-Serif\" font-size=\"14.00\">value = 5.998</text>\n</g>\n<!-- 0&#45;&gt;4 -->\n<g id=\"edge4\" class=\"edge\">\n<title>0&#45;&gt;4</title>\n<path fill=\"none\" stroke=\"black\" d=\"M407.99,-400.88C416.55,-391.89 425.91,-382.04 434.82,-372.68\"/>\n<polygon fill=\"black\" stroke=\"black\" points=\"437.48,-374.96 441.83,-365.3 432.41,-370.13 437.48,-374.96\"/>\n<text text-anchor=\"middle\" x=\"442.46\" y=\"-386.59\" font-family=\"Helvetica,sans-Serif\" font-size=\"14.00\">False</text>\n</g>\n<!-- 2 -->\n<g id=\"node3\" class=\"node\">\n<title>2</title>\n<polygon fill=\"#f0b58b\" stroke=\"black\" points=\"175,-253.5 0,-253.5 0,-200.5 175,-200.5 175,-253.5\"/>\n<text text-anchor=\"middle\" x=\"87.5\" y=\"-238.3\" font-family=\"Helvetica,sans-Serif\" font-size=\"14.00\">squared_error = 0.382</text>\n<text text-anchor=\"middle\" x=\"87.5\" y=\"-223.3\" font-family=\"Helvetica,sans-Serif\" font-size=\"14.00\">samples = 49</text>\n<text text-anchor=\"middle\" x=\"87.5\" y=\"-208.3\" font-family=\"Helvetica,sans-Serif\" font-size=\"14.00\">value = 6.827</text>\n</g>\n<!-- 1&#45;&gt;2 -->\n<g id=\"edge2\" class=\"edge\">\n<title>1&#45;&gt;2</title>\n<path fill=\"none\" stroke=\"black\" d=\"M217.84,-296.88C194.32,-284.46 167.74,-270.41 144.74,-258.25\"/>\n<polygon fill=\"black\" stroke=\"black\" points=\"146.26,-255.1 135.79,-253.52 142.99,-261.29 146.26,-255.1\"/>\n</g>\n<!-- 3 -->\n<g id=\"node4\" class=\"node\">\n<title>3</title>\n<polygon fill=\"#e58139\" stroke=\"black\" points=\"368,-253.5 193,-253.5 193,-200.5 368,-200.5 368,-253.5\"/>\n<text text-anchor=\"middle\" x=\"280.5\" y=\"-238.3\" font-family=\"Helvetica,sans-Serif\" font-size=\"14.00\">squared_error = 0.324</text>\n<text text-anchor=\"middle\" x=\"280.5\" y=\"-223.3\" font-family=\"Helvetica,sans-Serif\" font-size=\"14.00\">samples = 16</text>\n<text text-anchor=\"middle\" x=\"280.5\" y=\"-208.3\" font-family=\"Helvetica,sans-Serif\" font-size=\"14.00\">value = 8.08</text>\n</g>\n<!-- 1&#45;&gt;3 -->\n<g id=\"edge3\" class=\"edge\">\n<title>1&#45;&gt;3</title>\n<path fill=\"none\" stroke=\"black\" d=\"M280.5,-296.88C280.5,-286.33 280.5,-274.6 280.5,-263.85\"/>\n<polygon fill=\"black\" stroke=\"black\" points=\"284,-263.52 280.5,-253.52 277,-263.52 284,-263.52\"/>\n</g>\n<!-- 5 -->\n<g id=\"node6\" class=\"node\">\n<title>5</title>\n<polygon fill=\"#fae6d8\" stroke=\"black\" points=\"561,-261 386,-261 386,-193 561,-193 561,-261\"/>\n<text text-anchor=\"middle\" x=\"473.5\" y=\"-245.8\" font-family=\"Helvetica,sans-Serif\" font-size=\"14.00\">V14 &lt;= 111386476.0</text>\n<text text-anchor=\"middle\" x=\"473.5\" y=\"-230.8\" font-family=\"Helvetica,sans-Serif\" font-size=\"14.00\">squared_error = 0.513</text>\n<text text-anchor=\"middle\" x=\"473.5\" y=\"-215.8\" font-family=\"Helvetica,sans-Serif\" font-size=\"14.00\">samples = 81</text>\n<text text-anchor=\"middle\" x=\"473.5\" y=\"-200.8\" font-family=\"Helvetica,sans-Serif\" font-size=\"14.00\">value = 5.645</text>\n</g>\n<!-- 4&#45;&gt;5 -->\n<g id=\"edge5\" class=\"edge\">\n<title>4&#45;&gt;5</title>\n<path fill=\"none\" stroke=\"black\" d=\"M473.5,-296.88C473.5,-288.78 473.5,-279.98 473.5,-271.47\"/>\n<polygon fill=\"black\" stroke=\"black\" points=\"477,-271.3 473.5,-261.3 470,-271.3 477,-271.3\"/>\n</g>\n<!-- 10 -->\n<g id=\"node11\" class=\"node\">\n<title>10</title>\n<polygon fill=\"#edaa79\" stroke=\"black\" points=\"760,-261 579,-261 579,-193 760,-193 760,-261\"/>\n<text text-anchor=\"middle\" x=\"669.5\" y=\"-245.8\" font-family=\"Helvetica,sans-Serif\" font-size=\"14.00\">V36 &lt;= 4819779328.0</text>\n<text text-anchor=\"middle\" x=\"669.5\" y=\"-230.8\" font-family=\"Helvetica,sans-Serif\" font-size=\"14.00\">squared_error = 0.47</text>\n<text text-anchor=\"middle\" x=\"669.5\" y=\"-215.8\" font-family=\"Helvetica,sans-Serif\" font-size=\"14.00\">samples = 26</text>\n<text text-anchor=\"middle\" x=\"669.5\" y=\"-200.8\" font-family=\"Helvetica,sans-Serif\" font-size=\"14.00\">value = 7.098</text>\n</g>\n<!-- 4&#45;&gt;10 -->\n<g id=\"edge10\" class=\"edge\">\n<title>4&#45;&gt;10</title>\n<path fill=\"none\" stroke=\"black\" d=\"M537.14,-296.88C556.23,-286.95 577.32,-275.97 596.95,-265.76\"/>\n<polygon fill=\"black\" stroke=\"black\" points=\"598.59,-268.85 605.85,-261.12 595.36,-262.64 598.59,-268.85\"/>\n</g>\n<!-- 6 -->\n<g id=\"node7\" class=\"node\">\n<title>6</title>\n<polygon fill=\"#f7d9c3\" stroke=\"black\" points=\"369,-157 194,-157 194,-89 369,-89 369,-157\"/>\n<text text-anchor=\"middle\" x=\"281.5\" y=\"-141.8\" font-family=\"Helvetica,sans-Serif\" font-size=\"14.00\">V38 &lt;= 180335528.0</text>\n<text text-anchor=\"middle\" x=\"281.5\" y=\"-126.8\" font-family=\"Helvetica,sans-Serif\" font-size=\"14.00\">squared_error = 0.381</text>\n<text text-anchor=\"middle\" x=\"281.5\" y=\"-111.8\" font-family=\"Helvetica,sans-Serif\" font-size=\"14.00\">samples = 52</text>\n<text text-anchor=\"middle\" x=\"281.5\" y=\"-96.8\" font-family=\"Helvetica,sans-Serif\" font-size=\"14.00\">value = 5.976</text>\n</g>\n<!-- 5&#45;&gt;6 -->\n<g id=\"edge6\" class=\"edge\">\n<title>5&#45;&gt;6</title>\n<path fill=\"none\" stroke=\"black\" d=\"M411.16,-192.88C392.54,-182.99 371.98,-172.07 352.83,-161.9\"/>\n<polygon fill=\"black\" stroke=\"black\" points=\"354.33,-158.73 343.85,-157.12 351.04,-164.91 354.33,-158.73\"/>\n</g>\n<!-- 9 -->\n<g id=\"node10\" class=\"node\">\n<title>9</title>\n<polygon fill=\"#ffffff\" stroke=\"black\" points=\"562,-149.5 387,-149.5 387,-96.5 562,-96.5 562,-149.5\"/>\n<text text-anchor=\"middle\" x=\"474.5\" y=\"-134.3\" font-family=\"Helvetica,sans-Serif\" font-size=\"14.00\">squared_error = 0.202</text>\n<text text-anchor=\"middle\" x=\"474.5\" y=\"-119.3\" font-family=\"Helvetica,sans-Serif\" font-size=\"14.00\">samples = 29</text>\n<text text-anchor=\"middle\" x=\"474.5\" y=\"-104.3\" font-family=\"Helvetica,sans-Serif\" font-size=\"14.00\">value = 5.052</text>\n</g>\n<!-- 5&#45;&gt;9 -->\n<g id=\"edge9\" class=\"edge\">\n<title>5&#45;&gt;9</title>\n<path fill=\"none\" stroke=\"black\" d=\"M473.82,-192.88C473.93,-182.33 474.04,-170.6 474.15,-159.85\"/>\n<polygon fill=\"black\" stroke=\"black\" points=\"477.65,-159.55 474.25,-149.52 470.65,-159.49 477.65,-159.55\"/>\n</g>\n<!-- 7 -->\n<g id=\"node8\" class=\"node\">\n<title>7</title>\n<polygon fill=\"#f9e3d3\" stroke=\"black\" points=\"273,-53 98,-53 98,0 273,0 273,-53\"/>\n<text text-anchor=\"middle\" x=\"185.5\" y=\"-37.8\" font-family=\"Helvetica,sans-Serif\" font-size=\"14.00\">squared_error = 0.117</text>\n<text text-anchor=\"middle\" x=\"185.5\" y=\"-22.8\" font-family=\"Helvetica,sans-Serif\" font-size=\"14.00\">samples = 41</text>\n<text text-anchor=\"middle\" x=\"185.5\" y=\"-7.8\" font-family=\"Helvetica,sans-Serif\" font-size=\"14.00\">value = 5.729</text>\n</g>\n<!-- 6&#45;&gt;7 -->\n<g id=\"edge7\" class=\"edge\">\n<title>6&#45;&gt;7</title>\n<path fill=\"none\" stroke=\"black\" d=\"M247.92,-88.95C238.54,-79.71 228.34,-69.67 218.96,-60.44\"/>\n<polygon fill=\"black\" stroke=\"black\" points=\"221.23,-57.76 211.65,-53.24 216.32,-62.75 221.23,-57.76\"/>\n</g>\n<!-- 8 -->\n<g id=\"node9\" class=\"node\">\n<title>8</title>\n<polygon fill=\"#efb286\" stroke=\"black\" points=\"466,-53 291,-53 291,0 466,0 466,-53\"/>\n<text text-anchor=\"middle\" x=\"378.5\" y=\"-37.8\" font-family=\"Helvetica,sans-Serif\" font-size=\"14.00\">squared_error = 0.286</text>\n<text text-anchor=\"middle\" x=\"378.5\" y=\"-22.8\" font-family=\"Helvetica,sans-Serif\" font-size=\"14.00\">samples = 11</text>\n<text text-anchor=\"middle\" x=\"378.5\" y=\"-7.8\" font-family=\"Helvetica,sans-Serif\" font-size=\"14.00\">value = 6.9</text>\n</g>\n<!-- 6&#45;&gt;8 -->\n<g id=\"edge8\" class=\"edge\">\n<title>6&#45;&gt;8</title>\n<path fill=\"none\" stroke=\"black\" d=\"M315.43,-88.95C324.91,-79.71 335.21,-69.67 344.69,-60.44\"/>\n<polygon fill=\"black\" stroke=\"black\" points=\"347.36,-62.72 352.08,-53.24 342.48,-57.71 347.36,-62.72\"/>\n</g>\n<!-- 11 -->\n<g id=\"node12\" class=\"node\">\n<title>11</title>\n<polygon fill=\"#e9965b\" stroke=\"black\" points=\"756,-149.5 581,-149.5 581,-96.5 756,-96.5 756,-149.5\"/>\n<text text-anchor=\"middle\" x=\"668.5\" y=\"-134.3\" font-family=\"Helvetica,sans-Serif\" font-size=\"14.00\">squared_error = 0.164</text>\n<text text-anchor=\"middle\" x=\"668.5\" y=\"-119.3\" font-family=\"Helvetica,sans-Serif\" font-size=\"14.00\">samples = 16</text>\n<text text-anchor=\"middle\" x=\"668.5\" y=\"-104.3\" font-family=\"Helvetica,sans-Serif\" font-size=\"14.00\">value = 7.565</text>\n</g>\n<!-- 10&#45;&gt;11 -->\n<g id=\"edge11\" class=\"edge\">\n<title>10&#45;&gt;11</title>\n<path fill=\"none\" stroke=\"black\" d=\"M669.18,-192.88C669.07,-182.33 668.96,-170.6 668.85,-159.85\"/>\n<polygon fill=\"black\" stroke=\"black\" points=\"672.35,-159.49 668.75,-149.52 665.35,-159.55 672.35,-159.49\"/>\n</g>\n<!-- 12 -->\n<g id=\"node13\" class=\"node\">\n<title>12</title>\n<polygon fill=\"#f4c9aa\" stroke=\"black\" points=\"949,-149.5 774,-149.5 774,-96.5 949,-96.5 949,-149.5\"/>\n<text text-anchor=\"middle\" x=\"861.5\" y=\"-134.3\" font-family=\"Helvetica,sans-Serif\" font-size=\"14.00\">squared_error = 0.049</text>\n<text text-anchor=\"middle\" x=\"861.5\" y=\"-119.3\" font-family=\"Helvetica,sans-Serif\" font-size=\"14.00\">samples = 10</text>\n<text text-anchor=\"middle\" x=\"861.5\" y=\"-104.3\" font-family=\"Helvetica,sans-Serif\" font-size=\"14.00\">value = 6.349</text>\n</g>\n<!-- 10&#45;&gt;12 -->\n<g id=\"edge12\" class=\"edge\">\n<title>10&#45;&gt;12</title>\n<path fill=\"none\" stroke=\"black\" d=\"M731.84,-192.88C755.23,-180.46 781.68,-166.41 804.56,-154.25\"/>\n<polygon fill=\"black\" stroke=\"black\" points=\"806.27,-157.3 813.46,-149.52 802.99,-151.12 806.27,-157.3\"/>\n</g>\n</g>\n</svg>\n",
      "text/plain": "<graphviz.sources.Source at 0x7f33eec95640>"
     },
     "execution_count": 7,
     "metadata": {},
     "output_type": "execute_result"
    }
   ],
   "source": [
    "# Regression tree\n",
    "from sklearn.tree import DecisionTreeRegressor\n",
    "from sklearn import tree\n",
    "import graphviz\n",
    "\n",
    "regt = DecisionTreeRegressor(random_state=42, min_impurity_decrease=0.05)\n",
    "regt.fit(X_train, y_train)\n",
    "regression_tree_predictions = regt.predict(X_test)\n",
    "\n",
    "# calculate the mean absolute error\n",
    "mae = mean_absolute_error(y_test, regression_tree_predictions)\n",
    "\n",
    "print(\"R2 score: \" + str(regt.score(X_test, y_test)))\n",
    "print(f\"mean absolute error of regression tree: {mae}\")\n",
    "\n",
    "dot_data = tree.export_graphviz(regt, out_file=None, feature_names=X.columns, filled=True)\n",
    "graph = graphviz.Source(dot_data, format=\"png\")\n",
    "graph.render(\"regression_tree\")\n",
    "graph"
   ],
   "metadata": {
    "collapsed": false,
    "ExecuteTime": {
     "end_time": "2023-11-13T15:17:26.809741891Z",
     "start_time": "2023-11-13T15:17:26.618680243Z"
    }
   }
  },
  {
   "cell_type": "code",
   "execution_count": 8,
   "outputs": [
    {
     "name": "stdout",
     "output_type": "stream",
     "text": [
      "<class 'pandas.core.frame.DataFrame'>\n",
      "RangeIndex: 192 entries, 0 to 191\n",
      "Data columns (total 90 columns):\n",
      " #   Column       Non-Null Count  Dtype  \n",
      "---  ------       --------------  -----  \n",
      " 0   V1           192 non-null    float64\n",
      " 1   V2           192 non-null    float64\n",
      " 2   V3           192 non-null    float64\n",
      " 3   V4           192 non-null    float64\n",
      " 4   V5           192 non-null    float64\n",
      " 5   V6           192 non-null    float64\n",
      " 6   V7           192 non-null    float64\n",
      " 7   V8           192 non-null    float64\n",
      " 8   V9           192 non-null    float64\n",
      " 9   V10          192 non-null    float64\n",
      " 10  V11          192 non-null    float64\n",
      " 11  V12          192 non-null    float64\n",
      " 12  V13          192 non-null    float64\n",
      " 13  V14          192 non-null    float64\n",
      " 14  V15          192 non-null    float64\n",
      " 15  V16          192 non-null    float64\n",
      " 16  V17          192 non-null    float64\n",
      " 17  V18          192 non-null    float64\n",
      " 18  V19          192 non-null    float64\n",
      " 19  V20          192 non-null    float64\n",
      " 20  V21          192 non-null    float64\n",
      " 21  V22          192 non-null    float64\n",
      " 22  V23          192 non-null    float64\n",
      " 23  V24          192 non-null    float64\n",
      " 24  V25          192 non-null    float64\n",
      " 25  V26          192 non-null    float64\n",
      " 26  V27          192 non-null    float64\n",
      " 27  V28          192 non-null    float64\n",
      " 28  V29          192 non-null    float64\n",
      " 29  V30          192 non-null    float64\n",
      " 30  V31          192 non-null    float64\n",
      " 31  V32          192 non-null    float64\n",
      " 32  V33          192 non-null    float64\n",
      " 33  V34          192 non-null    float64\n",
      " 34  V35          192 non-null    float64\n",
      " 35  V36          192 non-null    float64\n",
      " 36  V37          192 non-null    float64\n",
      " 37  V38          192 non-null    float64\n",
      " 38  V39          192 non-null    float64\n",
      " 39  V40          192 non-null    float64\n",
      " 40  V41          192 non-null    float64\n",
      " 41  V42          192 non-null    float64\n",
      " 42  V43          192 non-null    float64\n",
      " 43  V44          192 non-null    float64\n",
      " 44  V45          192 non-null    float64\n",
      " 45  V46          192 non-null    float64\n",
      " 46  V47          192 non-null    float64\n",
      " 47  V48          192 non-null    float64\n",
      " 48  V49          192 non-null    float64\n",
      " 49  V50          192 non-null    float64\n",
      " 50  V51          192 non-null    float64\n",
      " 51  numFix       192 non-null    float64\n",
      " 52  numSac       192 non-null    float64\n",
      " 53  ratioFixSac  192 non-null    float64\n",
      " 54  meanPupil    192 non-null    float64\n",
      " 55  sdPupil      192 non-null    float64\n",
      " 56  meanFixDur   192 non-null    float64\n",
      " 57  sdFixDur     192 non-null    float64\n",
      " 58  meanSacVel   192 non-null    float64\n",
      " 59  sdSacVel     192 non-null    float64\n",
      " 60  meanSacAmp   192 non-null    float64\n",
      " 61  sdSacAmp     192 non-null    float64\n",
      " 62  scanpathVel  192 non-null    float64\n",
      " 63  infoProcess  192 non-null    float64\n",
      " 64  AU01_r       192 non-null    float64\n",
      " 65  AU02_r       192 non-null    float64\n",
      " 66  AU04_r       192 non-null    float64\n",
      " 67  AU05_r       192 non-null    float64\n",
      " 68  AU06_r       192 non-null    float64\n",
      " 69  AU07_r       192 non-null    float64\n",
      " 70  AU09_r       192 non-null    float64\n",
      " 71  AU10_r       192 non-null    float64\n",
      " 72  AU12_r       192 non-null    float64\n",
      " 73  AU14_r       192 non-null    float64\n",
      " 74  AU15_r       192 non-null    float64\n",
      " 75  AU17_r       192 non-null    float64\n",
      " 76  AU20_r       192 non-null    float64\n",
      " 77  AU23_r       192 non-null    float64\n",
      " 78  AU25_r       192 non-null    float64\n",
      " 79  AU26_r       192 non-null    float64\n",
      " 80  AU45_r       192 non-null    float64\n",
      " 81  bvpMean      192 non-null    float64\n",
      " 82  bvpSD        192 non-null    float64\n",
      " 83  edaMean      192 non-null    float64\n",
      " 84  edaSD        192 non-null    float64\n",
      " 85  hrMean       192 non-null    float64\n",
      " 86  hrSD         192 non-null    float64\n",
      " 87  tempMean     192 non-null    float64\n",
      " 88  tempSD       192 non-null    float64\n",
      " 89  score        192 non-null    float64\n",
      "dtypes: float64(90)\n",
      "memory usage: 135.1 KB\n"
     ]
    }
   ],
   "source": [
    "dataset.info()"
   ],
   "metadata": {
    "collapsed": false,
    "ExecuteTime": {
     "end_time": "2023-11-13T15:17:26.863935432Z",
     "start_time": "2023-11-13T15:17:26.820453740Z"
    }
   }
  },
  {
   "cell_type": "code",
   "execution_count": 9,
   "outputs": [
    {
     "data": {
      "text/plain": "                  V1            V2              V3             V4  \\\ncount         192.00        192.00          192.00         192.00   \nmean    963085495.65  404186282.89  14281831234.95   676749115.06   \nstd    2948482281.88 1264067104.91  60286487388.68  2408741351.13   \nmin       6909398.10    7801725.53     17053318.81     7198605.41   \n25%      24960880.19   15903469.59    177246323.44    68311967.75   \n50%     157549997.27   87256796.29   1047476331.87   212100569.73   \n75%     418391616.54  126474228.65   4450768301.43   454613287.60   \nmax   16832447711.37 7015997774.15 367803183657.40 15329625537.00   \n\n                 V5              V6             V7            V8  \\\ncount        192.00          192.00         192.00        192.00   \nmean   307173534.49   5397402502.57   489660485.58  232146143.92   \nstd   1241375993.18  16699194983.86  1967260090.75  998144140.04   \nmin      6658573.09     38084108.21     9440603.60    7860253.93   \n25%     40166405.43    229724783.22    26037071.14   20322591.64   \n50%     95290003.71   2409190448.89    59313736.45   37260601.67   \n75%    113349046.68   4965059942.23   226884892.19   97736533.59   \nmax   7793305373.37 103100082425.75 12251162444.66 6217710362.78   \n\n                   V9            V10  ...  AU45_r  bvpMean  bvpSD  edaMean  \\\ncount          192.00         192.00  ...  192.00   192.00 192.00   192.00   \nmean    5434247443.87   617327696.87  ...    0.43     1.35   0.47     0.01   \nstd    23898766971.25  1945799698.15  ...    0.27     1.94   0.57     0.02   \nmin       26969051.89    15042253.01  ...    0.04     0.02   0.01    -0.03   \n25%      139151077.69    33703467.66  ...    0.18     0.22   0.08    -0.01   \n50%      289870030.95   163913830.02  ...    0.39     0.51   0.21     0.00   \n75%     1484095788.20   456590000.00  ...    0.63     1.60   0.84     0.03   \nmax   143809376496.85 11930736292.27  ...    1.02    10.07   2.75     0.07   \n\n       edaSD  hrMean   hrSD  tempMean  tempSD  score  \ncount 192.00  192.00 192.00    192.00  192.00 192.00  \nmean   64.47   78.54   6.81     30.81    0.69   6.47  \nstd    28.15    9.04   3.74      2.27    0.99   1.08  \nmin    22.18   61.36   2.44     25.62    0.06   4.24  \n25%    45.26   71.01   3.95     29.36    0.17   5.62  \n50%    54.02   78.84   5.27     30.81    0.26   6.38  \n75%    76.96   84.84   8.72     32.24    0.81   7.34  \nmax   137.22  101.14  17.98     36.39    4.96   8.98  \n\n[8 rows x 90 columns]",
      "text/html": "<div>\n<style scoped>\n    .dataframe tbody tr th:only-of-type {\n        vertical-align: middle;\n    }\n\n    .dataframe tbody tr th {\n        vertical-align: top;\n    }\n\n    .dataframe thead th {\n        text-align: right;\n    }\n</style>\n<table border=\"1\" class=\"dataframe\">\n  <thead>\n    <tr style=\"text-align: right;\">\n      <th></th>\n      <th>V1</th>\n      <th>V2</th>\n      <th>V3</th>\n      <th>V4</th>\n      <th>V5</th>\n      <th>V6</th>\n      <th>V7</th>\n      <th>V8</th>\n      <th>V9</th>\n      <th>V10</th>\n      <th>...</th>\n      <th>AU45_r</th>\n      <th>bvpMean</th>\n      <th>bvpSD</th>\n      <th>edaMean</th>\n      <th>edaSD</th>\n      <th>hrMean</th>\n      <th>hrSD</th>\n      <th>tempMean</th>\n      <th>tempSD</th>\n      <th>score</th>\n    </tr>\n  </thead>\n  <tbody>\n    <tr>\n      <th>count</th>\n      <td>192.00</td>\n      <td>192.00</td>\n      <td>192.00</td>\n      <td>192.00</td>\n      <td>192.00</td>\n      <td>192.00</td>\n      <td>192.00</td>\n      <td>192.00</td>\n      <td>192.00</td>\n      <td>192.00</td>\n      <td>...</td>\n      <td>192.00</td>\n      <td>192.00</td>\n      <td>192.00</td>\n      <td>192.00</td>\n      <td>192.00</td>\n      <td>192.00</td>\n      <td>192.00</td>\n      <td>192.00</td>\n      <td>192.00</td>\n      <td>192.00</td>\n    </tr>\n    <tr>\n      <th>mean</th>\n      <td>963085495.65</td>\n      <td>404186282.89</td>\n      <td>14281831234.95</td>\n      <td>676749115.06</td>\n      <td>307173534.49</td>\n      <td>5397402502.57</td>\n      <td>489660485.58</td>\n      <td>232146143.92</td>\n      <td>5434247443.87</td>\n      <td>617327696.87</td>\n      <td>...</td>\n      <td>0.43</td>\n      <td>1.35</td>\n      <td>0.47</td>\n      <td>0.01</td>\n      <td>64.47</td>\n      <td>78.54</td>\n      <td>6.81</td>\n      <td>30.81</td>\n      <td>0.69</td>\n      <td>6.47</td>\n    </tr>\n    <tr>\n      <th>std</th>\n      <td>2948482281.88</td>\n      <td>1264067104.91</td>\n      <td>60286487388.68</td>\n      <td>2408741351.13</td>\n      <td>1241375993.18</td>\n      <td>16699194983.86</td>\n      <td>1967260090.75</td>\n      <td>998144140.04</td>\n      <td>23898766971.25</td>\n      <td>1945799698.15</td>\n      <td>...</td>\n      <td>0.27</td>\n      <td>1.94</td>\n      <td>0.57</td>\n      <td>0.02</td>\n      <td>28.15</td>\n      <td>9.04</td>\n      <td>3.74</td>\n      <td>2.27</td>\n      <td>0.99</td>\n      <td>1.08</td>\n    </tr>\n    <tr>\n      <th>min</th>\n      <td>6909398.10</td>\n      <td>7801725.53</td>\n      <td>17053318.81</td>\n      <td>7198605.41</td>\n      <td>6658573.09</td>\n      <td>38084108.21</td>\n      <td>9440603.60</td>\n      <td>7860253.93</td>\n      <td>26969051.89</td>\n      <td>15042253.01</td>\n      <td>...</td>\n      <td>0.04</td>\n      <td>0.02</td>\n      <td>0.01</td>\n      <td>-0.03</td>\n      <td>22.18</td>\n      <td>61.36</td>\n      <td>2.44</td>\n      <td>25.62</td>\n      <td>0.06</td>\n      <td>4.24</td>\n    </tr>\n    <tr>\n      <th>25%</th>\n      <td>24960880.19</td>\n      <td>15903469.59</td>\n      <td>177246323.44</td>\n      <td>68311967.75</td>\n      <td>40166405.43</td>\n      <td>229724783.22</td>\n      <td>26037071.14</td>\n      <td>20322591.64</td>\n      <td>139151077.69</td>\n      <td>33703467.66</td>\n      <td>...</td>\n      <td>0.18</td>\n      <td>0.22</td>\n      <td>0.08</td>\n      <td>-0.01</td>\n      <td>45.26</td>\n      <td>71.01</td>\n      <td>3.95</td>\n      <td>29.36</td>\n      <td>0.17</td>\n      <td>5.62</td>\n    </tr>\n    <tr>\n      <th>50%</th>\n      <td>157549997.27</td>\n      <td>87256796.29</td>\n      <td>1047476331.87</td>\n      <td>212100569.73</td>\n      <td>95290003.71</td>\n      <td>2409190448.89</td>\n      <td>59313736.45</td>\n      <td>37260601.67</td>\n      <td>289870030.95</td>\n      <td>163913830.02</td>\n      <td>...</td>\n      <td>0.39</td>\n      <td>0.51</td>\n      <td>0.21</td>\n      <td>0.00</td>\n      <td>54.02</td>\n      <td>78.84</td>\n      <td>5.27</td>\n      <td>30.81</td>\n      <td>0.26</td>\n      <td>6.38</td>\n    </tr>\n    <tr>\n      <th>75%</th>\n      <td>418391616.54</td>\n      <td>126474228.65</td>\n      <td>4450768301.43</td>\n      <td>454613287.60</td>\n      <td>113349046.68</td>\n      <td>4965059942.23</td>\n      <td>226884892.19</td>\n      <td>97736533.59</td>\n      <td>1484095788.20</td>\n      <td>456590000.00</td>\n      <td>...</td>\n      <td>0.63</td>\n      <td>1.60</td>\n      <td>0.84</td>\n      <td>0.03</td>\n      <td>76.96</td>\n      <td>84.84</td>\n      <td>8.72</td>\n      <td>32.24</td>\n      <td>0.81</td>\n      <td>7.34</td>\n    </tr>\n    <tr>\n      <th>max</th>\n      <td>16832447711.37</td>\n      <td>7015997774.15</td>\n      <td>367803183657.40</td>\n      <td>15329625537.00</td>\n      <td>7793305373.37</td>\n      <td>103100082425.75</td>\n      <td>12251162444.66</td>\n      <td>6217710362.78</td>\n      <td>143809376496.85</td>\n      <td>11930736292.27</td>\n      <td>...</td>\n      <td>1.02</td>\n      <td>10.07</td>\n      <td>2.75</td>\n      <td>0.07</td>\n      <td>137.22</td>\n      <td>101.14</td>\n      <td>17.98</td>\n      <td>36.39</td>\n      <td>4.96</td>\n      <td>8.98</td>\n    </tr>\n  </tbody>\n</table>\n<p>8 rows × 90 columns</p>\n</div>"
     },
     "execution_count": 9,
     "metadata": {},
     "output_type": "execute_result"
    }
   ],
   "source": [
    "pd.options.display.float_format = '{:.2f}'.format\n",
    "dataset.describe()"
   ],
   "metadata": {
    "collapsed": false,
    "ExecuteTime": {
     "end_time": "2023-11-13T15:17:27.030262135Z",
     "start_time": "2023-11-13T15:17:26.862863577Z"
    }
   }
  },
  {
   "cell_type": "code",
   "execution_count": 10,
   "outputs": [
    {
     "data": {
      "text/plain": "            V1    V2    V3    V4    V5    V6    V7    V8    V9   V10  ...  \\\nV1        1.00  0.99  0.95  0.91  0.91  0.90  0.89  0.90  0.90  0.90  ...   \nV2        0.99  1.00  0.94  0.89  0.89  0.89  0.88  0.89  0.88  0.89  ...   \nV3        0.95  0.94  1.00  0.99  0.99  0.98  0.98  0.99  0.99  0.98  ...   \nV4        0.91  0.89  0.99  1.00  1.00  0.99  0.99  0.99  1.00  0.98  ...   \nV5        0.91  0.89  0.99  1.00  1.00  0.99  0.99  0.99  1.00  0.98  ...   \n...        ...   ...   ...   ...   ...   ...   ...   ...   ...   ...  ...   \nhrMean   -0.14 -0.12 -0.25 -0.31 -0.29 -0.32 -0.33 -0.30 -0.32 -0.28  ...   \nhrSD     -0.03 -0.02 -0.13 -0.17 -0.17 -0.16 -0.16 -0.16 -0.16 -0.17  ...   \ntempMean -0.11 -0.10 -0.08 -0.06 -0.06 -0.06 -0.06 -0.05 -0.06 -0.07  ...   \ntempSD    0.16  0.17  0.16  0.18  0.17  0.20  0.17  0.17  0.17  0.14  ...   \nscore    -0.17 -0.18 -0.07 -0.04 -0.04 -0.04 -0.01 -0.02 -0.02 -0.01  ...   \n\n          AU45_r  bvpMean  bvpSD  edaMean  edaSD  hrMean  hrSD  tempMean  \\\nV1         -0.08    -0.10   0.00    -0.09   0.22   -0.14 -0.03     -0.11   \nV2         -0.09    -0.10   0.01    -0.09   0.24   -0.12 -0.02     -0.10   \nV3         -0.10    -0.10  -0.08    -0.05   0.09   -0.25 -0.13     -0.08   \nV4         -0.12    -0.12  -0.13    -0.04   0.03   -0.31 -0.17     -0.06   \nV5         -0.12    -0.11  -0.12    -0.03   0.04   -0.29 -0.17     -0.06   \n...          ...      ...    ...      ...    ...     ...   ...       ...   \nhrMean      0.07     0.26   0.37    -0.05  -0.01    1.00  0.32      0.09   \nhrSD       -0.05     0.05   0.30     0.17   0.38    0.32  1.00     -0.11   \ntempMean   -0.06     0.29   0.20     0.04  -0.22    0.09 -0.11      1.00   \ntempSD     -0.21     0.00   0.14     0.30  -0.09   -0.03  0.53     -0.00   \nscore      -0.10     0.38   0.27    -0.10  -0.10    0.15  0.06      0.11   \n\n          tempSD  score  \nV1          0.16  -0.17  \nV2          0.17  -0.18  \nV3          0.16  -0.07  \nV4          0.18  -0.04  \nV5          0.17  -0.04  \n...          ...    ...  \nhrMean     -0.03   0.15  \nhrSD        0.53   0.06  \ntempMean   -0.00   0.11  \ntempSD      1.00   0.00  \nscore       0.00   1.00  \n\n[90 rows x 90 columns]",
      "text/html": "<div>\n<style scoped>\n    .dataframe tbody tr th:only-of-type {\n        vertical-align: middle;\n    }\n\n    .dataframe tbody tr th {\n        vertical-align: top;\n    }\n\n    .dataframe thead th {\n        text-align: right;\n    }\n</style>\n<table border=\"1\" class=\"dataframe\">\n  <thead>\n    <tr style=\"text-align: right;\">\n      <th></th>\n      <th>V1</th>\n      <th>V2</th>\n      <th>V3</th>\n      <th>V4</th>\n      <th>V5</th>\n      <th>V6</th>\n      <th>V7</th>\n      <th>V8</th>\n      <th>V9</th>\n      <th>V10</th>\n      <th>...</th>\n      <th>AU45_r</th>\n      <th>bvpMean</th>\n      <th>bvpSD</th>\n      <th>edaMean</th>\n      <th>edaSD</th>\n      <th>hrMean</th>\n      <th>hrSD</th>\n      <th>tempMean</th>\n      <th>tempSD</th>\n      <th>score</th>\n    </tr>\n  </thead>\n  <tbody>\n    <tr>\n      <th>V1</th>\n      <td>1.00</td>\n      <td>0.99</td>\n      <td>0.95</td>\n      <td>0.91</td>\n      <td>0.91</td>\n      <td>0.90</td>\n      <td>0.89</td>\n      <td>0.90</td>\n      <td>0.90</td>\n      <td>0.90</td>\n      <td>...</td>\n      <td>-0.08</td>\n      <td>-0.10</td>\n      <td>0.00</td>\n      <td>-0.09</td>\n      <td>0.22</td>\n      <td>-0.14</td>\n      <td>-0.03</td>\n      <td>-0.11</td>\n      <td>0.16</td>\n      <td>-0.17</td>\n    </tr>\n    <tr>\n      <th>V2</th>\n      <td>0.99</td>\n      <td>1.00</td>\n      <td>0.94</td>\n      <td>0.89</td>\n      <td>0.89</td>\n      <td>0.89</td>\n      <td>0.88</td>\n      <td>0.89</td>\n      <td>0.88</td>\n      <td>0.89</td>\n      <td>...</td>\n      <td>-0.09</td>\n      <td>-0.10</td>\n      <td>0.01</td>\n      <td>-0.09</td>\n      <td>0.24</td>\n      <td>-0.12</td>\n      <td>-0.02</td>\n      <td>-0.10</td>\n      <td>0.17</td>\n      <td>-0.18</td>\n    </tr>\n    <tr>\n      <th>V3</th>\n      <td>0.95</td>\n      <td>0.94</td>\n      <td>1.00</td>\n      <td>0.99</td>\n      <td>0.99</td>\n      <td>0.98</td>\n      <td>0.98</td>\n      <td>0.99</td>\n      <td>0.99</td>\n      <td>0.98</td>\n      <td>...</td>\n      <td>-0.10</td>\n      <td>-0.10</td>\n      <td>-0.08</td>\n      <td>-0.05</td>\n      <td>0.09</td>\n      <td>-0.25</td>\n      <td>-0.13</td>\n      <td>-0.08</td>\n      <td>0.16</td>\n      <td>-0.07</td>\n    </tr>\n    <tr>\n      <th>V4</th>\n      <td>0.91</td>\n      <td>0.89</td>\n      <td>0.99</td>\n      <td>1.00</td>\n      <td>1.00</td>\n      <td>0.99</td>\n      <td>0.99</td>\n      <td>0.99</td>\n      <td>1.00</td>\n      <td>0.98</td>\n      <td>...</td>\n      <td>-0.12</td>\n      <td>-0.12</td>\n      <td>-0.13</td>\n      <td>-0.04</td>\n      <td>0.03</td>\n      <td>-0.31</td>\n      <td>-0.17</td>\n      <td>-0.06</td>\n      <td>0.18</td>\n      <td>-0.04</td>\n    </tr>\n    <tr>\n      <th>V5</th>\n      <td>0.91</td>\n      <td>0.89</td>\n      <td>0.99</td>\n      <td>1.00</td>\n      <td>1.00</td>\n      <td>0.99</td>\n      <td>0.99</td>\n      <td>0.99</td>\n      <td>1.00</td>\n      <td>0.98</td>\n      <td>...</td>\n      <td>-0.12</td>\n      <td>-0.11</td>\n      <td>-0.12</td>\n      <td>-0.03</td>\n      <td>0.04</td>\n      <td>-0.29</td>\n      <td>-0.17</td>\n      <td>-0.06</td>\n      <td>0.17</td>\n      <td>-0.04</td>\n    </tr>\n    <tr>\n      <th>...</th>\n      <td>...</td>\n      <td>...</td>\n      <td>...</td>\n      <td>...</td>\n      <td>...</td>\n      <td>...</td>\n      <td>...</td>\n      <td>...</td>\n      <td>...</td>\n      <td>...</td>\n      <td>...</td>\n      <td>...</td>\n      <td>...</td>\n      <td>...</td>\n      <td>...</td>\n      <td>...</td>\n      <td>...</td>\n      <td>...</td>\n      <td>...</td>\n      <td>...</td>\n      <td>...</td>\n    </tr>\n    <tr>\n      <th>hrMean</th>\n      <td>-0.14</td>\n      <td>-0.12</td>\n      <td>-0.25</td>\n      <td>-0.31</td>\n      <td>-0.29</td>\n      <td>-0.32</td>\n      <td>-0.33</td>\n      <td>-0.30</td>\n      <td>-0.32</td>\n      <td>-0.28</td>\n      <td>...</td>\n      <td>0.07</td>\n      <td>0.26</td>\n      <td>0.37</td>\n      <td>-0.05</td>\n      <td>-0.01</td>\n      <td>1.00</td>\n      <td>0.32</td>\n      <td>0.09</td>\n      <td>-0.03</td>\n      <td>0.15</td>\n    </tr>\n    <tr>\n      <th>hrSD</th>\n      <td>-0.03</td>\n      <td>-0.02</td>\n      <td>-0.13</td>\n      <td>-0.17</td>\n      <td>-0.17</td>\n      <td>-0.16</td>\n      <td>-0.16</td>\n      <td>-0.16</td>\n      <td>-0.16</td>\n      <td>-0.17</td>\n      <td>...</td>\n      <td>-0.05</td>\n      <td>0.05</td>\n      <td>0.30</td>\n      <td>0.17</td>\n      <td>0.38</td>\n      <td>0.32</td>\n      <td>1.00</td>\n      <td>-0.11</td>\n      <td>0.53</td>\n      <td>0.06</td>\n    </tr>\n    <tr>\n      <th>tempMean</th>\n      <td>-0.11</td>\n      <td>-0.10</td>\n      <td>-0.08</td>\n      <td>-0.06</td>\n      <td>-0.06</td>\n      <td>-0.06</td>\n      <td>-0.06</td>\n      <td>-0.05</td>\n      <td>-0.06</td>\n      <td>-0.07</td>\n      <td>...</td>\n      <td>-0.06</td>\n      <td>0.29</td>\n      <td>0.20</td>\n      <td>0.04</td>\n      <td>-0.22</td>\n      <td>0.09</td>\n      <td>-0.11</td>\n      <td>1.00</td>\n      <td>-0.00</td>\n      <td>0.11</td>\n    </tr>\n    <tr>\n      <th>tempSD</th>\n      <td>0.16</td>\n      <td>0.17</td>\n      <td>0.16</td>\n      <td>0.18</td>\n      <td>0.17</td>\n      <td>0.20</td>\n      <td>0.17</td>\n      <td>0.17</td>\n      <td>0.17</td>\n      <td>0.14</td>\n      <td>...</td>\n      <td>-0.21</td>\n      <td>0.00</td>\n      <td>0.14</td>\n      <td>0.30</td>\n      <td>-0.09</td>\n      <td>-0.03</td>\n      <td>0.53</td>\n      <td>-0.00</td>\n      <td>1.00</td>\n      <td>0.00</td>\n    </tr>\n    <tr>\n      <th>score</th>\n      <td>-0.17</td>\n      <td>-0.18</td>\n      <td>-0.07</td>\n      <td>-0.04</td>\n      <td>-0.04</td>\n      <td>-0.04</td>\n      <td>-0.01</td>\n      <td>-0.02</td>\n      <td>-0.02</td>\n      <td>-0.01</td>\n      <td>...</td>\n      <td>-0.10</td>\n      <td>0.38</td>\n      <td>0.27</td>\n      <td>-0.10</td>\n      <td>-0.10</td>\n      <td>0.15</td>\n      <td>0.06</td>\n      <td>0.11</td>\n      <td>0.00</td>\n      <td>1.00</td>\n    </tr>\n  </tbody>\n</table>\n<p>90 rows × 90 columns</p>\n</div>"
     },
     "metadata": {},
     "output_type": "display_data"
    }
   ],
   "source": [
    "display(dataset.corr())\n",
    "with open('correlation.html', 'w') as f: # make it nicer\n",
    "    print(dataset.corr().style.background_gradient()\n",
    ".to_html(), file=f)"
   ],
   "metadata": {
    "collapsed": false,
    "ExecuteTime": {
     "end_time": "2023-11-13T15:17:27.375697556Z",
     "start_time": "2023-11-13T15:17:26.994718262Z"
    }
   }
  },
  {
   "cell_type": "code",
   "execution_count": null,
   "outputs": [],
   "source": [
    "sns.pairplot(dataset)"
   ],
   "metadata": {
    "collapsed": false,
    "is_executing": true,
    "ExecuteTime": {
     "start_time": "2023-11-13T15:17:59.931579524Z"
    }
   }
  },
  {
   "cell_type": "code",
   "execution_count": null,
   "outputs": [],
   "source": [
    "sns.displot(dataset['score'])"
   ],
   "metadata": {
    "collapsed": false,
    "is_executing": true
   }
  },
  {
   "cell_type": "code",
   "execution_count": null,
   "outputs": [],
   "source": [],
   "metadata": {
    "collapsed": false,
    "is_executing": true
   }
  },
  {
   "cell_type": "code",
   "execution_count": null,
   "outputs": [],
   "source": [],
   "metadata": {
    "collapsed": false
   }
  }
 ],
 "metadata": {
  "kernelspec": {
   "display_name": "Python 3",
   "language": "python",
   "name": "python3"
  },
  "language_info": {
   "codemirror_mode": {
    "name": "ipython",
    "version": 3
   },
   "file_extension": ".py",
   "mimetype": "text/x-python",
   "name": "python",
   "nbconvert_exporter": "python",
   "pygments_lexer": "ipython3",
   "version": "3.9.12"
  }
 },
 "nbformat": 4,
 "nbformat_minor": 0
}
