{
 "cells": [
  {
   "cell_type": "markdown",
   "metadata": {
    "collapsed": false
   },
   "source": [
    "This is a base jupyter notebook for other solutions. It loads the dataset, splits it to the training part (90%) and testing part (10%). It does not learn anything, it just randomly guesses the score for each student in testing part. It generates the solution with random floats inbetween 0 and 10."
   ]
  },
  {
   "cell_type": "code",
   "execution_count": 1,
   "metadata": {
    "collapsed": false,
    "ExecuteTime": {
     "end_time": "2023-11-07T12:22:13.744586457Z",
     "start_time": "2023-11-07T12:22:13.715624419Z"
    }
   },
   "outputs": [],
   "source": [
    "%load_ext autoreload"
   ]
  },
  {
   "cell_type": "markdown",
   "metadata": {
    "collapsed": false
   },
   "source": [
    "Load libraries"
   ]
  },
  {
   "cell_type": "code",
   "execution_count": 2,
   "metadata": {
    "collapsed": true,
    "ExecuteTime": {
     "end_time": "2023-11-07T12:22:14.777770671Z",
     "start_time": "2023-11-07T12:22:13.730439383Z"
    }
   },
   "outputs": [],
   "source": [
    "%autoreload\n",
    "\n",
    "# load libraries\n",
    "import pandas as pd\n",
    "import numpy as np\n",
    "from sklearn.model_selection import train_test_split\n",
    "from sklearn.metrics import mean_absolute_error"
   ]
  },
  {
   "cell_type": "code",
   "execution_count": 3,
   "metadata": {
    "collapsed": false,
    "ExecuteTime": {
     "end_time": "2023-11-07T12:22:14.798424557Z",
     "start_time": "2023-11-07T12:22:14.781964906Z"
    }
   },
   "outputs": [],
   "source": [
    "# read the dataset\n",
    "dataset = pd.read_csv('../dataset/dataset.csv')\n",
    "\n",
    "\n",
    "# Define the features and the target variable\n",
    "target_variable = 'score'\n",
    "X = dataset.drop(columns=[target_variable])\n",
    "y = dataset[target_variable]\n",
    "\n",
    "# Split the dataset into training and testing part\n",
    "X_train, X_test, y_train, y_test = train_test_split(X, y, test_size=0.1, random_state=42)"
   ]
  },
  {
   "cell_type": "code",
   "execution_count": 4,
   "metadata": {
    "ExecuteTime": {
     "end_time": "2023-11-07T12:22:14.813139578Z",
     "start_time": "2023-11-07T12:22:14.801409284Z"
    }
   },
   "outputs": [
    {
     "name": "stdout",
     "output_type": "stream",
     "text": [
      "(192, 90)\n",
      "(172, 89)\n",
      "(172,)\n",
      "(20, 89)\n",
      "(20,)\n"
     ]
    }
   ],
   "source": [
    "print(dataset.shape)\n",
    "print(X_train.shape)\n",
    "print(y_train.shape)\n",
    "print(X_test.shape)\n",
    "print(y_test.shape)"
   ]
  },
  {
   "cell_type": "code",
   "execution_count": 5,
   "metadata": {
    "collapsed": false,
    "ExecuteTime": {
     "end_time": "2023-11-07T12:22:14.876056661Z",
     "start_time": "2023-11-07T12:22:14.816126890Z"
    }
   },
   "outputs": [
    {
     "data": {
      "text/plain": "               V1            V2            V3            V4            V5  \\\n42   2.943810e+07  1.998644e+07  1.437134e+08  4.833686e+08  2.306787e+08   \n104  4.060854e+08  2.845759e+08  1.885846e+09  5.003709e+08  1.178089e+08   \n76   1.556490e+07  1.288987e+07  1.032507e+08  1.704621e+07  1.079477e+07   \n65   1.573082e+08  1.017205e+08  1.107742e+09  8.095620e+06  7.110808e+06   \n187  2.417054e+08  5.706243e+07  1.459052e+09  3.478477e+07  2.531873e+07   \n\n               V6            V7            V8            V9           V10  \\\n42   3.025763e+09  2.514082e+08  6.328459e+07  1.302369e+09  2.655631e+07   \n104  5.578342e+09  6.647294e+07  5.561674e+07  1.546593e+08  4.464849e+08   \n76   1.974401e+08  1.174413e+08  5.157638e+07  8.601966e+08  1.569393e+09   \n65   3.808411e+07  1.334271e+07  1.083087e+07  1.671368e+08  3.324417e+07   \n187  1.878347e+08  3.718951e+07  2.036266e+07  2.663333e+08  4.253611e+08   \n\n     ...    AU26_r    AU45_r   bvpMean     bvpSD   edaMean       edaSD  \\\n42   ...  0.837630  0.309486  0.193713  0.077658  0.006871   42.349295   \n104  ...  0.184976  0.832731  1.303701  0.882440 -0.001239   52.995633   \n76   ...  0.162555  0.948597  6.178320  0.874413  0.060220   51.786246   \n65   ...  0.307263  0.127384  8.422057  2.751319  0.004349   41.532397   \n187  ...  0.524999  0.539613  0.498900  0.440234 -0.011479  106.667491   \n\n        hrMean       hrSD   tempMean    tempSD  \n42   66.387594   2.435843  36.394508  0.696228  \n104  84.126481   3.631816  30.877747  0.258322  \n76   88.912019   5.171614  31.427262  0.319509  \n65   83.355363   6.213461  31.059597  0.694421  \n187  90.930801  12.226984  32.185130  0.217717  \n\n[5 rows x 89 columns]",
      "text/html": "<div>\n<style scoped>\n    .dataframe tbody tr th:only-of-type {\n        vertical-align: middle;\n    }\n\n    .dataframe tbody tr th {\n        vertical-align: top;\n    }\n\n    .dataframe thead th {\n        text-align: right;\n    }\n</style>\n<table border=\"1\" class=\"dataframe\">\n  <thead>\n    <tr style=\"text-align: right;\">\n      <th></th>\n      <th>V1</th>\n      <th>V2</th>\n      <th>V3</th>\n      <th>V4</th>\n      <th>V5</th>\n      <th>V6</th>\n      <th>V7</th>\n      <th>V8</th>\n      <th>V9</th>\n      <th>V10</th>\n      <th>...</th>\n      <th>AU26_r</th>\n      <th>AU45_r</th>\n      <th>bvpMean</th>\n      <th>bvpSD</th>\n      <th>edaMean</th>\n      <th>edaSD</th>\n      <th>hrMean</th>\n      <th>hrSD</th>\n      <th>tempMean</th>\n      <th>tempSD</th>\n    </tr>\n  </thead>\n  <tbody>\n    <tr>\n      <th>42</th>\n      <td>2.943810e+07</td>\n      <td>1.998644e+07</td>\n      <td>1.437134e+08</td>\n      <td>4.833686e+08</td>\n      <td>2.306787e+08</td>\n      <td>3.025763e+09</td>\n      <td>2.514082e+08</td>\n      <td>6.328459e+07</td>\n      <td>1.302369e+09</td>\n      <td>2.655631e+07</td>\n      <td>...</td>\n      <td>0.837630</td>\n      <td>0.309486</td>\n      <td>0.193713</td>\n      <td>0.077658</td>\n      <td>0.006871</td>\n      <td>42.349295</td>\n      <td>66.387594</td>\n      <td>2.435843</td>\n      <td>36.394508</td>\n      <td>0.696228</td>\n    </tr>\n    <tr>\n      <th>104</th>\n      <td>4.060854e+08</td>\n      <td>2.845759e+08</td>\n      <td>1.885846e+09</td>\n      <td>5.003709e+08</td>\n      <td>1.178089e+08</td>\n      <td>5.578342e+09</td>\n      <td>6.647294e+07</td>\n      <td>5.561674e+07</td>\n      <td>1.546593e+08</td>\n      <td>4.464849e+08</td>\n      <td>...</td>\n      <td>0.184976</td>\n      <td>0.832731</td>\n      <td>1.303701</td>\n      <td>0.882440</td>\n      <td>-0.001239</td>\n      <td>52.995633</td>\n      <td>84.126481</td>\n      <td>3.631816</td>\n      <td>30.877747</td>\n      <td>0.258322</td>\n    </tr>\n    <tr>\n      <th>76</th>\n      <td>1.556490e+07</td>\n      <td>1.288987e+07</td>\n      <td>1.032507e+08</td>\n      <td>1.704621e+07</td>\n      <td>1.079477e+07</td>\n      <td>1.974401e+08</td>\n      <td>1.174413e+08</td>\n      <td>5.157638e+07</td>\n      <td>8.601966e+08</td>\n      <td>1.569393e+09</td>\n      <td>...</td>\n      <td>0.162555</td>\n      <td>0.948597</td>\n      <td>6.178320</td>\n      <td>0.874413</td>\n      <td>0.060220</td>\n      <td>51.786246</td>\n      <td>88.912019</td>\n      <td>5.171614</td>\n      <td>31.427262</td>\n      <td>0.319509</td>\n    </tr>\n    <tr>\n      <th>65</th>\n      <td>1.573082e+08</td>\n      <td>1.017205e+08</td>\n      <td>1.107742e+09</td>\n      <td>8.095620e+06</td>\n      <td>7.110808e+06</td>\n      <td>3.808411e+07</td>\n      <td>1.334271e+07</td>\n      <td>1.083087e+07</td>\n      <td>1.671368e+08</td>\n      <td>3.324417e+07</td>\n      <td>...</td>\n      <td>0.307263</td>\n      <td>0.127384</td>\n      <td>8.422057</td>\n      <td>2.751319</td>\n      <td>0.004349</td>\n      <td>41.532397</td>\n      <td>83.355363</td>\n      <td>6.213461</td>\n      <td>31.059597</td>\n      <td>0.694421</td>\n    </tr>\n    <tr>\n      <th>187</th>\n      <td>2.417054e+08</td>\n      <td>5.706243e+07</td>\n      <td>1.459052e+09</td>\n      <td>3.478477e+07</td>\n      <td>2.531873e+07</td>\n      <td>1.878347e+08</td>\n      <td>3.718951e+07</td>\n      <td>2.036266e+07</td>\n      <td>2.663333e+08</td>\n      <td>4.253611e+08</td>\n      <td>...</td>\n      <td>0.524999</td>\n      <td>0.539613</td>\n      <td>0.498900</td>\n      <td>0.440234</td>\n      <td>-0.011479</td>\n      <td>106.667491</td>\n      <td>90.930801</td>\n      <td>12.226984</td>\n      <td>32.185130</td>\n      <td>0.217717</td>\n    </tr>\n  </tbody>\n</table>\n<p>5 rows × 89 columns</p>\n</div>"
     },
     "execution_count": 5,
     "metadata": {},
     "output_type": "execute_result"
    }
   ],
   "source": [
    "X_train.head()"
   ]
  },
  {
   "cell_type": "code",
   "execution_count": 6,
   "metadata": {
    "collapsed": false,
    "ExecuteTime": {
     "end_time": "2023-11-07T12:22:14.909325726Z",
     "start_time": "2023-11-07T12:22:14.848038664Z"
    }
   },
   "outputs": [
    {
     "name": "stdout",
     "output_type": "stream",
     "text": [
      "mean absolute error of random predictions: 3.4420988947161164\n"
     ]
    }
   ],
   "source": [
    "# generate random predictions with the same length as y_test\n",
    "random_predictions = np.random.uniform(low=0, high=10, size=len(y_test))\n",
    "\n",
    "# calculate the mean absolute error\n",
    "mae = mean_absolute_error(y_test, random_predictions)\n",
    "\n",
    "print(f\"mean absolute error of random predictions: {mae}\")"
   ]
  },
  {
   "cell_type": "code",
   "execution_count": 13,
   "outputs": [
    {
     "name": "stdout",
     "output_type": "stream",
     "text": [
      "R2 score: 0.6951498032964563\n",
      "mean absolute error of regression tree: 0.5162536607129737\n"
     ]
    },
    {
     "data": {
      "image/svg+xml": "<?xml version=\"1.0\" encoding=\"UTF-8\" standalone=\"no\"?>\n<!DOCTYPE svg PUBLIC \"-//W3C//DTD SVG 1.1//EN\"\n \"http://www.w3.org/Graphics/SVG/1.1/DTD/svg11.dtd\">\n<!-- Generated by graphviz version 2.43.0 (0)\n -->\n<!-- Title: Tree Pages: 1 -->\n<svg width=\"906pt\" height=\"373pt\"\n viewBox=\"0.00 0.00 906.00 373.00\" xmlns=\"http://www.w3.org/2000/svg\" xmlns:xlink=\"http://www.w3.org/1999/xlink\">\n<g id=\"graph0\" class=\"graph\" transform=\"scale(1 1) rotate(0) translate(4 369)\">\n<title>Tree</title>\n<polygon fill=\"white\" stroke=\"transparent\" points=\"-4,4 -4,-369 902,-369 902,4 -4,4\"/>\n<!-- 0 -->\n<g id=\"node1\" class=\"node\">\n<title>0</title>\n<polygon fill=\"#f2c2a0\" stroke=\"black\" points=\"464,-365 289,-365 289,-297 464,-297 464,-365\"/>\n<text text-anchor=\"middle\" x=\"376.5\" y=\"-349.8\" font-family=\"Helvetica,sans-Serif\" font-size=\"14.00\">AU17_r &lt;= 0.607</text>\n<text text-anchor=\"middle\" x=\"376.5\" y=\"-334.8\" font-family=\"Helvetica,sans-Serif\" font-size=\"14.00\">squared_error = 1.162</text>\n<text text-anchor=\"middle\" x=\"376.5\" y=\"-319.8\" font-family=\"Helvetica,sans-Serif\" font-size=\"14.00\">samples = 172</text>\n<text text-anchor=\"middle\" x=\"376.5\" y=\"-304.8\" font-family=\"Helvetica,sans-Serif\" font-size=\"14.00\">value = 6.463</text>\n</g>\n<!-- 1 -->\n<g id=\"node2\" class=\"node\">\n<title>1</title>\n<polygon fill=\"#f8dcc8\" stroke=\"black\" points=\"368,-261 193,-261 193,-193 368,-193 368,-261\"/>\n<text text-anchor=\"middle\" x=\"280.5\" y=\"-245.8\" font-family=\"Helvetica,sans-Serif\" font-size=\"14.00\">AU09_r &lt;= 0.128</text>\n<text text-anchor=\"middle\" x=\"280.5\" y=\"-230.8\" font-family=\"Helvetica,sans-Serif\" font-size=\"14.00\">squared_error = 0.763</text>\n<text text-anchor=\"middle\" x=\"280.5\" y=\"-215.8\" font-family=\"Helvetica,sans-Serif\" font-size=\"14.00\">samples = 86</text>\n<text text-anchor=\"middle\" x=\"280.5\" y=\"-200.8\" font-family=\"Helvetica,sans-Serif\" font-size=\"14.00\">value = 5.888</text>\n</g>\n<!-- 0&#45;&gt;1 -->\n<g id=\"edge1\" class=\"edge\">\n<title>0&#45;&gt;1</title>\n<path fill=\"none\" stroke=\"black\" d=\"M345.33,-296.88C336.86,-287.89 327.6,-278.04 318.79,-268.68\"/>\n<polygon fill=\"black\" stroke=\"black\" points=\"321.24,-266.18 311.84,-261.3 316.15,-270.98 321.24,-266.18\"/>\n<text text-anchor=\"middle\" x=\"311.08\" y=\"-282.59\" font-family=\"Helvetica,sans-Serif\" font-size=\"14.00\">True</text>\n</g>\n<!-- 6 -->\n<g id=\"node7\" class=\"node\">\n<title>6</title>\n<polygon fill=\"#eda977\" stroke=\"black\" points=\"559.5,-261 387.5,-261 387.5,-193 559.5,-193 559.5,-261\"/>\n<text text-anchor=\"middle\" x=\"473.5\" y=\"-245.8\" font-family=\"Helvetica,sans-Serif\" font-size=\"14.00\">V30 &lt;= 286869240.0</text>\n<text text-anchor=\"middle\" x=\"473.5\" y=\"-230.8\" font-family=\"Helvetica,sans-Serif\" font-size=\"14.00\">squared_error = 0.9</text>\n<text text-anchor=\"middle\" x=\"473.5\" y=\"-215.8\" font-family=\"Helvetica,sans-Serif\" font-size=\"14.00\">samples = 86</text>\n<text text-anchor=\"middle\" x=\"473.5\" y=\"-200.8\" font-family=\"Helvetica,sans-Serif\" font-size=\"14.00\">value = 7.038</text>\n</g>\n<!-- 0&#45;&gt;6 -->\n<g id=\"edge6\" class=\"edge\">\n<title>0&#45;&gt;6</title>\n<path fill=\"none\" stroke=\"black\" d=\"M407.99,-296.88C416.55,-287.89 425.91,-278.04 434.82,-268.68\"/>\n<polygon fill=\"black\" stroke=\"black\" points=\"437.48,-270.96 441.83,-261.3 432.41,-266.13 437.48,-270.96\"/>\n<text text-anchor=\"middle\" x=\"442.46\" y=\"-282.59\" font-family=\"Helvetica,sans-Serif\" font-size=\"14.00\">False</text>\n</g>\n<!-- 2 -->\n<g id=\"node3\" class=\"node\">\n<title>2</title>\n<polygon fill=\"#ffffff\" stroke=\"black\" points=\"175,-149.5 0,-149.5 0,-96.5 175,-96.5 175,-149.5\"/>\n<text text-anchor=\"middle\" x=\"87.5\" y=\"-134.3\" font-family=\"Helvetica,sans-Serif\" font-size=\"14.00\">squared_error = 0.202</text>\n<text text-anchor=\"middle\" x=\"87.5\" y=\"-119.3\" font-family=\"Helvetica,sans-Serif\" font-size=\"14.00\">samples = 32</text>\n<text text-anchor=\"middle\" x=\"87.5\" y=\"-104.3\" font-family=\"Helvetica,sans-Serif\" font-size=\"14.00\">value = 5.109</text>\n</g>\n<!-- 1&#45;&gt;2 -->\n<g id=\"edge2\" class=\"edge\">\n<title>1&#45;&gt;2</title>\n<path fill=\"none\" stroke=\"black\" d=\"M217.84,-192.88C194.32,-180.46 167.74,-166.41 144.74,-154.25\"/>\n<polygon fill=\"black\" stroke=\"black\" points=\"146.26,-151.1 135.79,-149.52 142.99,-157.29 146.26,-151.1\"/>\n</g>\n<!-- 3 -->\n<g id=\"node4\" class=\"node\">\n<title>3</title>\n<polygon fill=\"#f4c7a8\" stroke=\"black\" points=\"368,-157 193,-157 193,-89 368,-89 368,-157\"/>\n<text text-anchor=\"middle\" x=\"280.5\" y=\"-141.8\" font-family=\"Helvetica,sans-Serif\" font-size=\"14.00\">AU20_r &lt;= 0.175</text>\n<text text-anchor=\"middle\" x=\"280.5\" y=\"-126.8\" font-family=\"Helvetica,sans-Serif\" font-size=\"14.00\">squared_error = 0.522</text>\n<text text-anchor=\"middle\" x=\"280.5\" y=\"-111.8\" font-family=\"Helvetica,sans-Serif\" font-size=\"14.00\">samples = 54</text>\n<text text-anchor=\"middle\" x=\"280.5\" y=\"-96.8\" font-family=\"Helvetica,sans-Serif\" font-size=\"14.00\">value = 6.35</text>\n</g>\n<!-- 1&#45;&gt;3 -->\n<g id=\"edge3\" class=\"edge\">\n<title>1&#45;&gt;3</title>\n<path fill=\"none\" stroke=\"black\" d=\"M280.5,-192.88C280.5,-184.78 280.5,-175.98 280.5,-167.47\"/>\n<polygon fill=\"black\" stroke=\"black\" points=\"284,-167.3 280.5,-157.3 277,-167.3 284,-167.3\"/>\n</g>\n<!-- 4 -->\n<g id=\"node5\" class=\"node\">\n<title>4</title>\n<polygon fill=\"#f9e4d4\" stroke=\"black\" points=\"223,-53 48,-53 48,0 223,0 223,-53\"/>\n<text text-anchor=\"middle\" x=\"135.5\" y=\"-37.8\" font-family=\"Helvetica,sans-Serif\" font-size=\"14.00\">squared_error = 0.109</text>\n<text text-anchor=\"middle\" x=\"135.5\" y=\"-22.8\" font-family=\"Helvetica,sans-Serif\" font-size=\"14.00\">samples = 20</text>\n<text text-anchor=\"middle\" x=\"135.5\" y=\"-7.8\" font-family=\"Helvetica,sans-Serif\" font-size=\"14.00\">value = 5.72</text>\n</g>\n<!-- 3&#45;&gt;4 -->\n<g id=\"edge4\" class=\"edge\">\n<title>3&#45;&gt;4</title>\n<path fill=\"none\" stroke=\"black\" d=\"M229.79,-88.95C214.77,-79.16 198.37,-68.48 183.53,-58.8\"/>\n<polygon fill=\"black\" stroke=\"black\" points=\"185.28,-55.76 174.99,-53.24 181.46,-61.63 185.28,-55.76\"/>\n</g>\n<!-- 5 -->\n<g id=\"node6\" class=\"node\">\n<title>5</title>\n<polygon fill=\"#f0b78e\" stroke=\"black\" points=\"416,-53 241,-53 241,0 416,0 416,-53\"/>\n<text text-anchor=\"middle\" x=\"328.5\" y=\"-37.8\" font-family=\"Helvetica,sans-Serif\" font-size=\"14.00\">squared_error = 0.394</text>\n<text text-anchor=\"middle\" x=\"328.5\" y=\"-22.8\" font-family=\"Helvetica,sans-Serif\" font-size=\"14.00\">samples = 34</text>\n<text text-anchor=\"middle\" x=\"328.5\" y=\"-7.8\" font-family=\"Helvetica,sans-Serif\" font-size=\"14.00\">value = 6.72</text>\n</g>\n<!-- 3&#45;&gt;5 -->\n<g id=\"edge5\" class=\"edge\">\n<title>3&#45;&gt;5</title>\n<path fill=\"none\" stroke=\"black\" d=\"M297.29,-88.95C301.66,-80.35 306.38,-71.06 310.79,-62.37\"/>\n<polygon fill=\"black\" stroke=\"black\" points=\"314.02,-63.74 315.43,-53.24 307.78,-60.57 314.02,-63.74\"/>\n</g>\n<!-- 7 -->\n<g id=\"node8\" class=\"node\">\n<title>7</title>\n<polygon fill=\"#f4c9ab\" stroke=\"black\" points=\"561,-149.5 386,-149.5 386,-96.5 561,-96.5 561,-149.5\"/>\n<text text-anchor=\"middle\" x=\"473.5\" y=\"-134.3\" font-family=\"Helvetica,sans-Serif\" font-size=\"14.00\">squared_error = 0.362</text>\n<text text-anchor=\"middle\" x=\"473.5\" y=\"-119.3\" font-family=\"Helvetica,sans-Serif\" font-size=\"14.00\">samples = 37</text>\n<text text-anchor=\"middle\" x=\"473.5\" y=\"-104.3\" font-family=\"Helvetica,sans-Serif\" font-size=\"14.00\">value = 6.308</text>\n</g>\n<!-- 6&#45;&gt;7 -->\n<g id=\"edge7\" class=\"edge\">\n<title>6&#45;&gt;7</title>\n<path fill=\"none\" stroke=\"black\" d=\"M473.5,-192.88C473.5,-182.33 473.5,-170.6 473.5,-159.85\"/>\n<polygon fill=\"black\" stroke=\"black\" points=\"477,-159.52 473.5,-149.52 470,-159.52 477,-159.52\"/>\n</g>\n<!-- 8 -->\n<g id=\"node9\" class=\"node\">\n<title>8</title>\n<polygon fill=\"#e89050\" stroke=\"black\" points=\"751.5,-157 579.5,-157 579.5,-89 751.5,-89 751.5,-157\"/>\n<text text-anchor=\"middle\" x=\"665.5\" y=\"-141.8\" font-family=\"Helvetica,sans-Serif\" font-size=\"14.00\">V15 &lt;= 290040752.0</text>\n<text text-anchor=\"middle\" x=\"665.5\" y=\"-126.8\" font-family=\"Helvetica,sans-Serif\" font-size=\"14.00\">squared_error = 0.6</text>\n<text text-anchor=\"middle\" x=\"665.5\" y=\"-111.8\" font-family=\"Helvetica,sans-Serif\" font-size=\"14.00\">samples = 49</text>\n<text text-anchor=\"middle\" x=\"665.5\" y=\"-96.8\" font-family=\"Helvetica,sans-Serif\" font-size=\"14.00\">value = 7.589</text>\n</g>\n<!-- 6&#45;&gt;8 -->\n<g id=\"edge8\" class=\"edge\">\n<title>6&#45;&gt;8</title>\n<path fill=\"none\" stroke=\"black\" d=\"M535.84,-192.88C554.46,-182.99 575.02,-172.07 594.17,-161.9\"/>\n<polygon fill=\"black\" stroke=\"black\" points=\"595.96,-164.91 603.15,-157.12 592.67,-158.73 595.96,-164.91\"/>\n</g>\n<!-- 9 -->\n<g id=\"node10\" class=\"node\">\n<title>9</title>\n<polygon fill=\"#f1b991\" stroke=\"black\" points=\"705,-53 530,-53 530,0 705,0 705,-53\"/>\n<text text-anchor=\"middle\" x=\"617.5\" y=\"-37.8\" font-family=\"Helvetica,sans-Serif\" font-size=\"14.00\">squared_error = 0.305</text>\n<text text-anchor=\"middle\" x=\"617.5\" y=\"-22.8\" font-family=\"Helvetica,sans-Serif\" font-size=\"14.00\">samples = 13</text>\n<text text-anchor=\"middle\" x=\"617.5\" y=\"-7.8\" font-family=\"Helvetica,sans-Serif\" font-size=\"14.00\">value = 6.666</text>\n</g>\n<!-- 8&#45;&gt;9 -->\n<g id=\"edge9\" class=\"edge\">\n<title>8&#45;&gt;9</title>\n<path fill=\"none\" stroke=\"black\" d=\"M648.71,-88.95C644.34,-80.35 639.62,-71.06 635.21,-62.37\"/>\n<polygon fill=\"black\" stroke=\"black\" points=\"638.22,-60.57 630.57,-53.24 631.98,-63.74 638.22,-60.57\"/>\n</g>\n<!-- 10 -->\n<g id=\"node11\" class=\"node\">\n<title>10</title>\n<polygon fill=\"#e58139\" stroke=\"black\" points=\"898,-53 723,-53 723,0 898,0 898,-53\"/>\n<text text-anchor=\"middle\" x=\"810.5\" y=\"-37.8\" font-family=\"Helvetica,sans-Serif\" font-size=\"14.00\">squared_error = 0.288</text>\n<text text-anchor=\"middle\" x=\"810.5\" y=\"-22.8\" font-family=\"Helvetica,sans-Serif\" font-size=\"14.00\">samples = 36</text>\n<text text-anchor=\"middle\" x=\"810.5\" y=\"-7.8\" font-family=\"Helvetica,sans-Serif\" font-size=\"14.00\">value = 7.922</text>\n</g>\n<!-- 8&#45;&gt;10 -->\n<g id=\"edge10\" class=\"edge\">\n<title>8&#45;&gt;10</title>\n<path fill=\"none\" stroke=\"black\" d=\"M716.21,-88.95C731.23,-79.16 747.63,-68.48 762.47,-58.8\"/>\n<polygon fill=\"black\" stroke=\"black\" points=\"764.54,-61.63 771.01,-53.24 760.72,-55.76 764.54,-61.63\"/>\n</g>\n</g>\n</svg>\n",
      "text/plain": "<graphviz.sources.Source at 0x7fee62b29580>"
     },
     "execution_count": 13,
     "metadata": {},
     "output_type": "execute_result"
    }
   ],
   "source": [
    "# Regression tree\n",
    "from sklearn.tree import DecisionTreeRegressor\n",
    "from sklearn import tree\n",
    "import graphviz\n",
    "\n",
    "regt = DecisionTreeRegressor(random_state=42, min_impurity_decrease=0.05)\n",
    "regt.fit(X_train, y_train)\n",
    "regression_tree_predictions = regt.predict(X_test)\n",
    "\n",
    "# calculate the mean absolute error\n",
    "mae = mean_absolute_error(y_test, regression_tree_predictions)\n",
    "\n",
    "print(\"R2 score: \" + str(regt.score(X_test, y_test)))\n",
    "print(f\"mean absolute error of regression tree: {mae}\")\n",
    "\n",
    "dot_data = tree.export_graphviz(regt, out_file=None, feature_names=X.columns, filled=True)\n",
    "graph = graphviz.Source(dot_data, format=\"png\")\n",
    "graph.render(\"regression_tree\")\n",
    "graph"
   ],
   "metadata": {
    "collapsed": false,
    "ExecuteTime": {
     "end_time": "2023-11-07T12:40:03.474293617Z",
     "start_time": "2023-11-07T12:40:03.301804621Z"
    }
   }
  },
  {
   "cell_type": "code",
   "execution_count": 14,
   "outputs": [
    {
     "name": "stdout",
     "output_type": "stream",
     "text": [
      "<class 'pandas.core.frame.DataFrame'>\n",
      "RangeIndex: 192 entries, 0 to 191\n",
      "Data columns (total 90 columns):\n",
      " #   Column       Non-Null Count  Dtype  \n",
      "---  ------       --------------  -----  \n",
      " 0   V1           192 non-null    float64\n",
      " 1   V2           192 non-null    float64\n",
      " 2   V3           192 non-null    float64\n",
      " 3   V4           192 non-null    float64\n",
      " 4   V5           192 non-null    float64\n",
      " 5   V6           192 non-null    float64\n",
      " 6   V7           192 non-null    float64\n",
      " 7   V8           192 non-null    float64\n",
      " 8   V9           192 non-null    float64\n",
      " 9   V10          192 non-null    float64\n",
      " 10  V11          192 non-null    float64\n",
      " 11  V12          192 non-null    float64\n",
      " 12  V13          192 non-null    float64\n",
      " 13  V14          192 non-null    float64\n",
      " 14  V15          192 non-null    float64\n",
      " 15  V16          192 non-null    float64\n",
      " 16  V17          192 non-null    float64\n",
      " 17  V18          192 non-null    float64\n",
      " 18  V19          192 non-null    float64\n",
      " 19  V20          192 non-null    float64\n",
      " 20  V21          192 non-null    float64\n",
      " 21  V22          192 non-null    float64\n",
      " 22  V23          192 non-null    float64\n",
      " 23  V24          192 non-null    float64\n",
      " 24  V25          192 non-null    float64\n",
      " 25  V26          192 non-null    float64\n",
      " 26  V27          192 non-null    float64\n",
      " 27  V28          192 non-null    float64\n",
      " 28  V29          192 non-null    float64\n",
      " 29  V30          192 non-null    float64\n",
      " 30  V31          192 non-null    float64\n",
      " 31  V32          192 non-null    float64\n",
      " 32  V33          192 non-null    float64\n",
      " 33  V34          192 non-null    float64\n",
      " 34  V35          192 non-null    float64\n",
      " 35  V36          192 non-null    float64\n",
      " 36  V37          192 non-null    float64\n",
      " 37  V38          192 non-null    float64\n",
      " 38  V39          192 non-null    float64\n",
      " 39  V40          192 non-null    float64\n",
      " 40  V41          192 non-null    float64\n",
      " 41  V42          192 non-null    float64\n",
      " 42  V43          192 non-null    float64\n",
      " 43  V44          192 non-null    float64\n",
      " 44  V45          192 non-null    float64\n",
      " 45  V46          192 non-null    float64\n",
      " 46  V47          192 non-null    float64\n",
      " 47  V48          192 non-null    float64\n",
      " 48  V49          192 non-null    float64\n",
      " 49  V50          192 non-null    float64\n",
      " 50  V51          192 non-null    float64\n",
      " 51  numFix       192 non-null    float64\n",
      " 52  numSac       192 non-null    float64\n",
      " 53  ratioFixSac  192 non-null    float64\n",
      " 54  meanPupil    192 non-null    float64\n",
      " 55  sdPupil      192 non-null    float64\n",
      " 56  meanFixDur   192 non-null    float64\n",
      " 57  sdFixDur     192 non-null    float64\n",
      " 58  meanSacVel   192 non-null    float64\n",
      " 59  sdSacVel     192 non-null    float64\n",
      " 60  meanSacAmp   192 non-null    float64\n",
      " 61  sdSacAmp     192 non-null    float64\n",
      " 62  scanpathVel  192 non-null    float64\n",
      " 63  infoProcess  192 non-null    float64\n",
      " 64  AU01_r       192 non-null    float64\n",
      " 65  AU02_r       192 non-null    float64\n",
      " 66  AU04_r       192 non-null    float64\n",
      " 67  AU05_r       192 non-null    float64\n",
      " 68  AU06_r       192 non-null    float64\n",
      " 69  AU07_r       192 non-null    float64\n",
      " 70  AU09_r       192 non-null    float64\n",
      " 71  AU10_r       192 non-null    float64\n",
      " 72  AU12_r       192 non-null    float64\n",
      " 73  AU14_r       192 non-null    float64\n",
      " 74  AU15_r       192 non-null    float64\n",
      " 75  AU17_r       192 non-null    float64\n",
      " 76  AU20_r       192 non-null    float64\n",
      " 77  AU23_r       192 non-null    float64\n",
      " 78  AU25_r       192 non-null    float64\n",
      " 79  AU26_r       192 non-null    float64\n",
      " 80  AU45_r       192 non-null    float64\n",
      " 81  bvpMean      192 non-null    float64\n",
      " 82  bvpSD        192 non-null    float64\n",
      " 83  edaMean      192 non-null    float64\n",
      " 84  edaSD        192 non-null    float64\n",
      " 85  hrMean       192 non-null    float64\n",
      " 86  hrSD         192 non-null    float64\n",
      " 87  tempMean     192 non-null    float64\n",
      " 88  tempSD       192 non-null    float64\n",
      " 89  score        192 non-null    float64\n",
      "dtypes: float64(90)\n",
      "memory usage: 135.1 KB\n"
     ]
    }
   ],
   "source": [
    "dataset.info()"
   ],
   "metadata": {
    "collapsed": false,
    "ExecuteTime": {
     "end_time": "2023-11-07T12:54:42.413352364Z",
     "start_time": "2023-11-07T12:54:42.380747727Z"
    }
   }
  },
  {
   "cell_type": "code",
   "execution_count": 16,
   "outputs": [
    {
     "data": {
      "text/plain": "                  V1            V2              V3             V4  \\\ncount         192.00        192.00          192.00         192.00   \nmean    963085495.65  404186282.89  14281831234.95   676749115.06   \nstd    2948482281.88 1264067104.91  60286487388.68  2408741351.13   \nmin       6909398.10    7801725.53     17053318.81     7198605.41   \n25%      24960880.19   15903469.59    177246323.44    68311967.75   \n50%     157549997.27   87256796.29   1047476331.87   212100569.73   \n75%     418391616.54  126474228.65   4450768301.43   454613287.60   \nmax   16832447711.37 7015997774.15 367803183657.40 15329625537.00   \n\n                 V5              V6             V7            V8  \\\ncount        192.00          192.00         192.00        192.00   \nmean   307173534.49   5397402502.57   489660485.58  232146143.92   \nstd   1241375993.18  16699194983.86  1967260090.75  998144140.04   \nmin      6658573.09     38084108.21     9440603.60    7860253.93   \n25%     40166405.43    229724783.22    26037071.14   20322591.64   \n50%     95290003.71   2409190448.89    59313736.45   37260601.67   \n75%    113349046.68   4965059942.23   226884892.19   97736533.59   \nmax   7793305373.37 103100082425.75 12251162444.66 6217710362.78   \n\n                   V9            V10  ...  AU45_r  bvpMean  bvpSD  edaMean  \\\ncount          192.00         192.00  ...  192.00   192.00 192.00   192.00   \nmean    5434247443.87   617327696.87  ...    0.43     1.35   0.47     0.01   \nstd    23898766971.25  1945799698.15  ...    0.27     1.94   0.57     0.02   \nmin       26969051.89    15042253.01  ...    0.04     0.02   0.01    -0.03   \n25%      139151077.69    33703467.66  ...    0.18     0.22   0.08    -0.01   \n50%      289870030.95   163913830.02  ...    0.39     0.51   0.21     0.00   \n75%     1484095788.20   456590000.00  ...    0.63     1.60   0.84     0.03   \nmax   143809376496.85 11930736292.27  ...    1.02    10.07   2.75     0.07   \n\n       edaSD  hrMean   hrSD  tempMean  tempSD  score  \ncount 192.00  192.00 192.00    192.00  192.00 192.00  \nmean   64.47   78.54   6.81     30.81    0.69   6.47  \nstd    28.15    9.04   3.74      2.27    0.99   1.08  \nmin    22.18   61.36   2.44     25.62    0.06   4.24  \n25%    45.26   71.01   3.95     29.36    0.17   5.62  \n50%    54.02   78.84   5.27     30.81    0.26   6.38  \n75%    76.96   84.84   8.72     32.24    0.81   7.34  \nmax   137.22  101.14  17.98     36.39    4.96   8.98  \n\n[8 rows x 90 columns]",
      "text/html": "<div>\n<style scoped>\n    .dataframe tbody tr th:only-of-type {\n        vertical-align: middle;\n    }\n\n    .dataframe tbody tr th {\n        vertical-align: top;\n    }\n\n    .dataframe thead th {\n        text-align: right;\n    }\n</style>\n<table border=\"1\" class=\"dataframe\">\n  <thead>\n    <tr style=\"text-align: right;\">\n      <th></th>\n      <th>V1</th>\n      <th>V2</th>\n      <th>V3</th>\n      <th>V4</th>\n      <th>V5</th>\n      <th>V6</th>\n      <th>V7</th>\n      <th>V8</th>\n      <th>V9</th>\n      <th>V10</th>\n      <th>...</th>\n      <th>AU45_r</th>\n      <th>bvpMean</th>\n      <th>bvpSD</th>\n      <th>edaMean</th>\n      <th>edaSD</th>\n      <th>hrMean</th>\n      <th>hrSD</th>\n      <th>tempMean</th>\n      <th>tempSD</th>\n      <th>score</th>\n    </tr>\n  </thead>\n  <tbody>\n    <tr>\n      <th>count</th>\n      <td>192.00</td>\n      <td>192.00</td>\n      <td>192.00</td>\n      <td>192.00</td>\n      <td>192.00</td>\n      <td>192.00</td>\n      <td>192.00</td>\n      <td>192.00</td>\n      <td>192.00</td>\n      <td>192.00</td>\n      <td>...</td>\n      <td>192.00</td>\n      <td>192.00</td>\n      <td>192.00</td>\n      <td>192.00</td>\n      <td>192.00</td>\n      <td>192.00</td>\n      <td>192.00</td>\n      <td>192.00</td>\n      <td>192.00</td>\n      <td>192.00</td>\n    </tr>\n    <tr>\n      <th>mean</th>\n      <td>963085495.65</td>\n      <td>404186282.89</td>\n      <td>14281831234.95</td>\n      <td>676749115.06</td>\n      <td>307173534.49</td>\n      <td>5397402502.57</td>\n      <td>489660485.58</td>\n      <td>232146143.92</td>\n      <td>5434247443.87</td>\n      <td>617327696.87</td>\n      <td>...</td>\n      <td>0.43</td>\n      <td>1.35</td>\n      <td>0.47</td>\n      <td>0.01</td>\n      <td>64.47</td>\n      <td>78.54</td>\n      <td>6.81</td>\n      <td>30.81</td>\n      <td>0.69</td>\n      <td>6.47</td>\n    </tr>\n    <tr>\n      <th>std</th>\n      <td>2948482281.88</td>\n      <td>1264067104.91</td>\n      <td>60286487388.68</td>\n      <td>2408741351.13</td>\n      <td>1241375993.18</td>\n      <td>16699194983.86</td>\n      <td>1967260090.75</td>\n      <td>998144140.04</td>\n      <td>23898766971.25</td>\n      <td>1945799698.15</td>\n      <td>...</td>\n      <td>0.27</td>\n      <td>1.94</td>\n      <td>0.57</td>\n      <td>0.02</td>\n      <td>28.15</td>\n      <td>9.04</td>\n      <td>3.74</td>\n      <td>2.27</td>\n      <td>0.99</td>\n      <td>1.08</td>\n    </tr>\n    <tr>\n      <th>min</th>\n      <td>6909398.10</td>\n      <td>7801725.53</td>\n      <td>17053318.81</td>\n      <td>7198605.41</td>\n      <td>6658573.09</td>\n      <td>38084108.21</td>\n      <td>9440603.60</td>\n      <td>7860253.93</td>\n      <td>26969051.89</td>\n      <td>15042253.01</td>\n      <td>...</td>\n      <td>0.04</td>\n      <td>0.02</td>\n      <td>0.01</td>\n      <td>-0.03</td>\n      <td>22.18</td>\n      <td>61.36</td>\n      <td>2.44</td>\n      <td>25.62</td>\n      <td>0.06</td>\n      <td>4.24</td>\n    </tr>\n    <tr>\n      <th>25%</th>\n      <td>24960880.19</td>\n      <td>15903469.59</td>\n      <td>177246323.44</td>\n      <td>68311967.75</td>\n      <td>40166405.43</td>\n      <td>229724783.22</td>\n      <td>26037071.14</td>\n      <td>20322591.64</td>\n      <td>139151077.69</td>\n      <td>33703467.66</td>\n      <td>...</td>\n      <td>0.18</td>\n      <td>0.22</td>\n      <td>0.08</td>\n      <td>-0.01</td>\n      <td>45.26</td>\n      <td>71.01</td>\n      <td>3.95</td>\n      <td>29.36</td>\n      <td>0.17</td>\n      <td>5.62</td>\n    </tr>\n    <tr>\n      <th>50%</th>\n      <td>157549997.27</td>\n      <td>87256796.29</td>\n      <td>1047476331.87</td>\n      <td>212100569.73</td>\n      <td>95290003.71</td>\n      <td>2409190448.89</td>\n      <td>59313736.45</td>\n      <td>37260601.67</td>\n      <td>289870030.95</td>\n      <td>163913830.02</td>\n      <td>...</td>\n      <td>0.39</td>\n      <td>0.51</td>\n      <td>0.21</td>\n      <td>0.00</td>\n      <td>54.02</td>\n      <td>78.84</td>\n      <td>5.27</td>\n      <td>30.81</td>\n      <td>0.26</td>\n      <td>6.38</td>\n    </tr>\n    <tr>\n      <th>75%</th>\n      <td>418391616.54</td>\n      <td>126474228.65</td>\n      <td>4450768301.43</td>\n      <td>454613287.60</td>\n      <td>113349046.68</td>\n      <td>4965059942.23</td>\n      <td>226884892.19</td>\n      <td>97736533.59</td>\n      <td>1484095788.20</td>\n      <td>456590000.00</td>\n      <td>...</td>\n      <td>0.63</td>\n      <td>1.60</td>\n      <td>0.84</td>\n      <td>0.03</td>\n      <td>76.96</td>\n      <td>84.84</td>\n      <td>8.72</td>\n      <td>32.24</td>\n      <td>0.81</td>\n      <td>7.34</td>\n    </tr>\n    <tr>\n      <th>max</th>\n      <td>16832447711.37</td>\n      <td>7015997774.15</td>\n      <td>367803183657.40</td>\n      <td>15329625537.00</td>\n      <td>7793305373.37</td>\n      <td>103100082425.75</td>\n      <td>12251162444.66</td>\n      <td>6217710362.78</td>\n      <td>143809376496.85</td>\n      <td>11930736292.27</td>\n      <td>...</td>\n      <td>1.02</td>\n      <td>10.07</td>\n      <td>2.75</td>\n      <td>0.07</td>\n      <td>137.22</td>\n      <td>101.14</td>\n      <td>17.98</td>\n      <td>36.39</td>\n      <td>4.96</td>\n      <td>8.98</td>\n    </tr>\n  </tbody>\n</table>\n<p>8 rows × 90 columns</p>\n</div>"
     },
     "execution_count": 16,
     "metadata": {},
     "output_type": "execute_result"
    }
   ],
   "source": [
    "pd.options.display.float_format = '{:.2f}'.format\n",
    "dataset.describe()"
   ],
   "metadata": {
    "collapsed": false,
    "ExecuteTime": {
     "end_time": "2023-11-07T12:59:11.499448702Z",
     "start_time": "2023-11-07T12:59:11.322234562Z"
    }
   }
  },
  {
   "cell_type": "code",
   "execution_count": 17,
   "outputs": [
    {
     "data": {
      "text/plain": "            V1    V2    V3    V4    V5    V6    V7    V8    V9   V10  ...  \\\nV1        1.00  0.99  0.95  0.91  0.91  0.90  0.89  0.90  0.90  0.90  ...   \nV2        0.99  1.00  0.94  0.89  0.89  0.89  0.88  0.89  0.88  0.89  ...   \nV3        0.95  0.94  1.00  0.99  0.99  0.98  0.98  0.99  0.99  0.98  ...   \nV4        0.91  0.89  0.99  1.00  1.00  0.99  0.99  0.99  1.00  0.98  ...   \nV5        0.91  0.89  0.99  1.00  1.00  0.99  0.99  0.99  1.00  0.98  ...   \n...        ...   ...   ...   ...   ...   ...   ...   ...   ...   ...  ...   \nhrMean   -0.14 -0.12 -0.25 -0.31 -0.29 -0.32 -0.33 -0.30 -0.32 -0.28  ...   \nhrSD     -0.03 -0.02 -0.13 -0.17 -0.17 -0.16 -0.16 -0.16 -0.16 -0.17  ...   \ntempMean -0.11 -0.10 -0.08 -0.06 -0.06 -0.06 -0.06 -0.05 -0.06 -0.07  ...   \ntempSD    0.16  0.17  0.16  0.18  0.17  0.20  0.17  0.17  0.17  0.14  ...   \nscore    -0.17 -0.18 -0.07 -0.04 -0.04 -0.04 -0.01 -0.02 -0.02 -0.01  ...   \n\n          AU45_r  bvpMean  bvpSD  edaMean  edaSD  hrMean  hrSD  tempMean  \\\nV1         -0.08    -0.10   0.00    -0.09   0.22   -0.14 -0.03     -0.11   \nV2         -0.09    -0.10   0.01    -0.09   0.24   -0.12 -0.02     -0.10   \nV3         -0.10    -0.10  -0.08    -0.05   0.09   -0.25 -0.13     -0.08   \nV4         -0.12    -0.12  -0.13    -0.04   0.03   -0.31 -0.17     -0.06   \nV5         -0.12    -0.11  -0.12    -0.03   0.04   -0.29 -0.17     -0.06   \n...          ...      ...    ...      ...    ...     ...   ...       ...   \nhrMean      0.07     0.26   0.37    -0.05  -0.01    1.00  0.32      0.09   \nhrSD       -0.05     0.05   0.30     0.17   0.38    0.32  1.00     -0.11   \ntempMean   -0.06     0.29   0.20     0.04  -0.22    0.09 -0.11      1.00   \ntempSD     -0.21     0.00   0.14     0.30  -0.09   -0.03  0.53     -0.00   \nscore      -0.10     0.38   0.27    -0.10  -0.10    0.15  0.06      0.11   \n\n          tempSD  score  \nV1          0.16  -0.17  \nV2          0.17  -0.18  \nV3          0.16  -0.07  \nV4          0.18  -0.04  \nV5          0.17  -0.04  \n...          ...    ...  \nhrMean     -0.03   0.15  \nhrSD        0.53   0.06  \ntempMean   -0.00   0.11  \ntempSD      1.00   0.00  \nscore       0.00   1.00  \n\n[90 rows x 90 columns]",
      "text/html": "<div>\n<style scoped>\n    .dataframe tbody tr th:only-of-type {\n        vertical-align: middle;\n    }\n\n    .dataframe tbody tr th {\n        vertical-align: top;\n    }\n\n    .dataframe thead th {\n        text-align: right;\n    }\n</style>\n<table border=\"1\" class=\"dataframe\">\n  <thead>\n    <tr style=\"text-align: right;\">\n      <th></th>\n      <th>V1</th>\n      <th>V2</th>\n      <th>V3</th>\n      <th>V4</th>\n      <th>V5</th>\n      <th>V6</th>\n      <th>V7</th>\n      <th>V8</th>\n      <th>V9</th>\n      <th>V10</th>\n      <th>...</th>\n      <th>AU45_r</th>\n      <th>bvpMean</th>\n      <th>bvpSD</th>\n      <th>edaMean</th>\n      <th>edaSD</th>\n      <th>hrMean</th>\n      <th>hrSD</th>\n      <th>tempMean</th>\n      <th>tempSD</th>\n      <th>score</th>\n    </tr>\n  </thead>\n  <tbody>\n    <tr>\n      <th>V1</th>\n      <td>1.00</td>\n      <td>0.99</td>\n      <td>0.95</td>\n      <td>0.91</td>\n      <td>0.91</td>\n      <td>0.90</td>\n      <td>0.89</td>\n      <td>0.90</td>\n      <td>0.90</td>\n      <td>0.90</td>\n      <td>...</td>\n      <td>-0.08</td>\n      <td>-0.10</td>\n      <td>0.00</td>\n      <td>-0.09</td>\n      <td>0.22</td>\n      <td>-0.14</td>\n      <td>-0.03</td>\n      <td>-0.11</td>\n      <td>0.16</td>\n      <td>-0.17</td>\n    </tr>\n    <tr>\n      <th>V2</th>\n      <td>0.99</td>\n      <td>1.00</td>\n      <td>0.94</td>\n      <td>0.89</td>\n      <td>0.89</td>\n      <td>0.89</td>\n      <td>0.88</td>\n      <td>0.89</td>\n      <td>0.88</td>\n      <td>0.89</td>\n      <td>...</td>\n      <td>-0.09</td>\n      <td>-0.10</td>\n      <td>0.01</td>\n      <td>-0.09</td>\n      <td>0.24</td>\n      <td>-0.12</td>\n      <td>-0.02</td>\n      <td>-0.10</td>\n      <td>0.17</td>\n      <td>-0.18</td>\n    </tr>\n    <tr>\n      <th>V3</th>\n      <td>0.95</td>\n      <td>0.94</td>\n      <td>1.00</td>\n      <td>0.99</td>\n      <td>0.99</td>\n      <td>0.98</td>\n      <td>0.98</td>\n      <td>0.99</td>\n      <td>0.99</td>\n      <td>0.98</td>\n      <td>...</td>\n      <td>-0.10</td>\n      <td>-0.10</td>\n      <td>-0.08</td>\n      <td>-0.05</td>\n      <td>0.09</td>\n      <td>-0.25</td>\n      <td>-0.13</td>\n      <td>-0.08</td>\n      <td>0.16</td>\n      <td>-0.07</td>\n    </tr>\n    <tr>\n      <th>V4</th>\n      <td>0.91</td>\n      <td>0.89</td>\n      <td>0.99</td>\n      <td>1.00</td>\n      <td>1.00</td>\n      <td>0.99</td>\n      <td>0.99</td>\n      <td>0.99</td>\n      <td>1.00</td>\n      <td>0.98</td>\n      <td>...</td>\n      <td>-0.12</td>\n      <td>-0.12</td>\n      <td>-0.13</td>\n      <td>-0.04</td>\n      <td>0.03</td>\n      <td>-0.31</td>\n      <td>-0.17</td>\n      <td>-0.06</td>\n      <td>0.18</td>\n      <td>-0.04</td>\n    </tr>\n    <tr>\n      <th>V5</th>\n      <td>0.91</td>\n      <td>0.89</td>\n      <td>0.99</td>\n      <td>1.00</td>\n      <td>1.00</td>\n      <td>0.99</td>\n      <td>0.99</td>\n      <td>0.99</td>\n      <td>1.00</td>\n      <td>0.98</td>\n      <td>...</td>\n      <td>-0.12</td>\n      <td>-0.11</td>\n      <td>-0.12</td>\n      <td>-0.03</td>\n      <td>0.04</td>\n      <td>-0.29</td>\n      <td>-0.17</td>\n      <td>-0.06</td>\n      <td>0.17</td>\n      <td>-0.04</td>\n    </tr>\n    <tr>\n      <th>...</th>\n      <td>...</td>\n      <td>...</td>\n      <td>...</td>\n      <td>...</td>\n      <td>...</td>\n      <td>...</td>\n      <td>...</td>\n      <td>...</td>\n      <td>...</td>\n      <td>...</td>\n      <td>...</td>\n      <td>...</td>\n      <td>...</td>\n      <td>...</td>\n      <td>...</td>\n      <td>...</td>\n      <td>...</td>\n      <td>...</td>\n      <td>...</td>\n      <td>...</td>\n      <td>...</td>\n    </tr>\n    <tr>\n      <th>hrMean</th>\n      <td>-0.14</td>\n      <td>-0.12</td>\n      <td>-0.25</td>\n      <td>-0.31</td>\n      <td>-0.29</td>\n      <td>-0.32</td>\n      <td>-0.33</td>\n      <td>-0.30</td>\n      <td>-0.32</td>\n      <td>-0.28</td>\n      <td>...</td>\n      <td>0.07</td>\n      <td>0.26</td>\n      <td>0.37</td>\n      <td>-0.05</td>\n      <td>-0.01</td>\n      <td>1.00</td>\n      <td>0.32</td>\n      <td>0.09</td>\n      <td>-0.03</td>\n      <td>0.15</td>\n    </tr>\n    <tr>\n      <th>hrSD</th>\n      <td>-0.03</td>\n      <td>-0.02</td>\n      <td>-0.13</td>\n      <td>-0.17</td>\n      <td>-0.17</td>\n      <td>-0.16</td>\n      <td>-0.16</td>\n      <td>-0.16</td>\n      <td>-0.16</td>\n      <td>-0.17</td>\n      <td>...</td>\n      <td>-0.05</td>\n      <td>0.05</td>\n      <td>0.30</td>\n      <td>0.17</td>\n      <td>0.38</td>\n      <td>0.32</td>\n      <td>1.00</td>\n      <td>-0.11</td>\n      <td>0.53</td>\n      <td>0.06</td>\n    </tr>\n    <tr>\n      <th>tempMean</th>\n      <td>-0.11</td>\n      <td>-0.10</td>\n      <td>-0.08</td>\n      <td>-0.06</td>\n      <td>-0.06</td>\n      <td>-0.06</td>\n      <td>-0.06</td>\n      <td>-0.05</td>\n      <td>-0.06</td>\n      <td>-0.07</td>\n      <td>...</td>\n      <td>-0.06</td>\n      <td>0.29</td>\n      <td>0.20</td>\n      <td>0.04</td>\n      <td>-0.22</td>\n      <td>0.09</td>\n      <td>-0.11</td>\n      <td>1.00</td>\n      <td>-0.00</td>\n      <td>0.11</td>\n    </tr>\n    <tr>\n      <th>tempSD</th>\n      <td>0.16</td>\n      <td>0.17</td>\n      <td>0.16</td>\n      <td>0.18</td>\n      <td>0.17</td>\n      <td>0.20</td>\n      <td>0.17</td>\n      <td>0.17</td>\n      <td>0.17</td>\n      <td>0.14</td>\n      <td>...</td>\n      <td>-0.21</td>\n      <td>0.00</td>\n      <td>0.14</td>\n      <td>0.30</td>\n      <td>-0.09</td>\n      <td>-0.03</td>\n      <td>0.53</td>\n      <td>-0.00</td>\n      <td>1.00</td>\n      <td>0.00</td>\n    </tr>\n    <tr>\n      <th>score</th>\n      <td>-0.17</td>\n      <td>-0.18</td>\n      <td>-0.07</td>\n      <td>-0.04</td>\n      <td>-0.04</td>\n      <td>-0.04</td>\n      <td>-0.01</td>\n      <td>-0.02</td>\n      <td>-0.02</td>\n      <td>-0.01</td>\n      <td>...</td>\n      <td>-0.10</td>\n      <td>0.38</td>\n      <td>0.27</td>\n      <td>-0.10</td>\n      <td>-0.10</td>\n      <td>0.15</td>\n      <td>0.06</td>\n      <td>0.11</td>\n      <td>0.00</td>\n      <td>1.00</td>\n    </tr>\n  </tbody>\n</table>\n<p>90 rows × 90 columns</p>\n</div>"
     },
     "metadata": {},
     "output_type": "display_data"
    }
   ],
   "source": [
    "display(dataset.corr())\n",
    "with open('correlation.html', 'w') as f: # make it nicer\n",
    "    print(dataset.corr().style.background_gradient()\n",
    ".to_html(), file=f)"
   ],
   "metadata": {
    "collapsed": false,
    "ExecuteTime": {
     "end_time": "2023-11-07T13:17:26.738939148Z",
     "start_time": "2023-11-07T13:17:25.115795301Z"
    }
   }
  },
  {
   "cell_type": "code",
   "execution_count": null,
   "outputs": [],
   "source": [],
   "metadata": {
    "collapsed": false
   }
  }
 ],
 "metadata": {
  "kernelspec": {
   "display_name": "Python 3",
   "language": "python",
   "name": "python3"
  },
  "language_info": {
   "codemirror_mode": {
    "name": "ipython",
    "version": 3
   },
   "file_extension": ".py",
   "mimetype": "text/x-python",
   "name": "python",
   "nbconvert_exporter": "python",
   "pygments_lexer": "ipython3",
   "version": "3.9.12"
  }
 },
 "nbformat": 4,
 "nbformat_minor": 0
}
