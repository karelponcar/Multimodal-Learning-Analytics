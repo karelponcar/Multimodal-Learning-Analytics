{
 "cells": [
  {
   "cell_type": "markdown",
   "metadata": {
    "collapsed": false
   },
   "source": [
    "This is a base jupyter notebook for other solutions. It loads the dataset, splits it to the training part (90%) and testing part (10%). It does not learn anything, it just randomly guesses the score for each student in testing part. It generates the solution with random floats inbetween 0 and 10."
   ]
  },
  {
   "cell_type": "code",
   "execution_count": 47,
   "metadata": {
    "ExecuteTime": {
     "end_time": "2023-09-29T14:11:53.826308270Z",
     "start_time": "2023-09-29T14:11:53.729437294Z"
    },
    "collapsed": false
   },
   "outputs": [
    {
     "name": "stdout",
     "output_type": "stream",
     "text": [
      "The autoreload extension is already loaded. To reload it, use:\n",
      "  %reload_ext autoreload\n"
     ]
    }
   ],
   "source": [
    "%load_ext autoreload"
   ]
  },
  {
   "cell_type": "markdown",
   "metadata": {
    "collapsed": false
   },
   "source": [
    "Load libraries"
   ]
  },
  {
   "cell_type": "code",
   "execution_count": 48,
   "metadata": {
    "ExecuteTime": {
     "end_time": "2023-09-29T14:11:53.828966592Z",
     "start_time": "2023-09-29T14:11:53.793204456Z"
    },
    "collapsed": true
   },
   "outputs": [],
   "source": [
    "%autoreload\n",
    "\n",
    "# load libraries\n",
    "import pandas as pd\n",
    "import numpy as np\n",
    "import matplotlib.pyplot as plt\n",
    "from sklearn.model_selection import train_test_split\n",
    "from sklearn.metrics import mean_absolute_error\n",
    "import plotly.express as px\n",
    "from sklearn.model_selection import cross_val_score, KFold\n",
    "from sklearn.ensemble import RandomForestRegressor\n",
    "from sklearn.metrics import make_scorer, mean_squared_error\n",
    "from sklearn.preprocessing import StandardScaler\n",
    "from sklearn.linear_model import LinearRegression"
   ]
  },
  {
   "cell_type": "code",
   "execution_count": 49,
   "metadata": {
    "ExecuteTime": {
     "end_time": "2023-09-29T14:11:53.849507476Z",
     "start_time": "2023-09-29T14:11:53.793593165Z"
    },
    "collapsed": false
   },
   "outputs": [],
   "source": [
    "# read the dataset\n",
    "dataset = pd.read_csv('../../dataset/dataset.csv')\n",
    "\n",
    "# define features and target variables\n",
    "X = dataset.filter(regex=r'AU')\n",
    "y = dataset['score']\n"
   ]
  },
  {
   "cell_type": "code",
   "execution_count": 50,
   "metadata": {},
   "outputs": [
    {
     "name": "stdout",
     "output_type": "stream",
     "text": [
      "(192, 90)\n",
      "(192, 17)\n",
      "(192,)\n"
     ]
    }
   ],
   "source": [
    "# check dataframes' shape\n",
    "print(dataset.shape)\n",
    "print(X.shape)\n",
    "print(y.shape)"
   ]
  },
  {
   "cell_type": "code",
   "execution_count": 51,
   "metadata": {},
   "outputs": [
    {
     "name": "stdout",
     "output_type": "stream",
     "text": [
      "AU01_r    0.515079\n",
      "AU02_r    0.244080\n",
      "AU04_r    0.400921\n",
      "AU05_r    0.251520\n",
      "AU06_r    0.226741\n",
      "AU07_r    0.465767\n",
      "AU09_r    0.321114\n",
      "AU10_r    0.273995\n",
      "AU12_r    0.256611\n",
      "AU14_r    0.490359\n",
      "AU15_r    0.203866\n",
      "AU17_r    0.390946\n",
      "AU20_r    0.251535\n",
      "AU23_r    0.221596\n",
      "AU25_r    0.194427\n",
      "AU26_r    0.257319\n",
      "AU45_r    0.203654\n",
      "dtype: float64\n",
      "AU01_r    0.515079\n",
      "AU02_r    0.244080\n",
      "AU04_r    0.400921\n",
      "AU05_r    0.251520\n",
      "AU06_r    0.226741\n",
      "AU07_r    0.465767\n",
      "AU09_r    0.321114\n",
      "AU10_r    0.273995\n",
      "AU12_r    0.256611\n",
      "AU14_r    0.490359\n",
      "AU15_r    0.203866\n",
      "AU17_r    0.390946\n",
      "AU20_r    0.251535\n",
      "AU23_r    0.221596\n",
      "AU25_r    0.194427\n",
      "AU26_r    0.257319\n",
      "AU45_r    0.203654\n",
      "dtype: float64\n"
     ]
    }
   ],
   "source": [
    "# normalize data\n",
    "X_normalized = X / 5\n",
    "y_normalized = y / 10\n",
    "print(X_normalized.max())\n",
    "print(X_normalized.max())"
   ]
  },
  {
   "cell_type": "code",
   "execution_count": 52,
   "metadata": {},
   "outputs": [],
   "source": [
    "# Split the dataset into training and testing part\n",
    "X_train, X_test, y_train, y_test = train_test_split(X_normalized, y_normalized, test_size=0.1, random_state=69)\n"
   ]
  },
  {
   "cell_type": "code",
   "execution_count": 53,
   "metadata": {},
   "outputs": [
    {
     "data": {
      "text/plain": [
       "<AxesSubplot: >"
      ]
     },
     "execution_count": 53,
     "metadata": {},
     "output_type": "execute_result"
    },
    {
     "data": {
      "image/png": "[encoded data removed]",
      "text/plain": [
       "<Figure size 640x480 with 1 Axes>"
      ]
     },
     "metadata": {},
     "output_type": "display_data"
    }
   ],
   "source": [
    "y_train.hist(bins=8, edgecolor='black')"
   ]
  },
  {
   "cell_type": "code",
   "execution_count": 54,
   "metadata": {},
   "outputs": [
    {
     "name": "stdout",
     "output_type": "stream",
     "text": [
      "0.05111070033399998\n"
     ]
    },
    {
     "name": "stderr",
     "output_type": "stream",
     "text": [
      "/home/karel/.local/lib/python3.10/site-packages/sklearn/utils/validation.py:767: FutureWarning: is_sparse is deprecated and will be removed in a future version. Check `isinstance(dtype, pd.SparseDtype)` instead.\n",
      "  if not hasattr(array, \"sparse\") and array.dtypes.apply(is_sparse).any():\n",
      "/home/karel/.local/lib/python3.10/site-packages/sklearn/utils/validation.py:605: FutureWarning: is_sparse is deprecated and will be removed in a future version. Check `isinstance(dtype, pd.SparseDtype)` instead.\n",
      "  if is_sparse(pd_dtype):\n",
      "/home/karel/.local/lib/python3.10/site-packages/sklearn/utils/validation.py:614: FutureWarning: is_sparse is deprecated and will be removed in a future version. Check `isinstance(dtype, pd.SparseDtype)` instead.\n",
      "  if is_sparse(pd_dtype) or not is_extension_array_dtype(pd_dtype):\n",
      "/home/karel/.local/lib/python3.10/site-packages/sklearn/utils/validation.py:605: FutureWarning: is_sparse is deprecated and will be removed in a future version. Check `isinstance(dtype, pd.SparseDtype)` instead.\n",
      "  if is_sparse(pd_dtype):\n",
      "/home/karel/.local/lib/python3.10/site-packages/sklearn/utils/validation.py:614: FutureWarning: is_sparse is deprecated and will be removed in a future version. Check `isinstance(dtype, pd.SparseDtype)` instead.\n",
      "  if is_sparse(pd_dtype) or not is_extension_array_dtype(pd_dtype):\n",
      "/home/karel/.local/lib/python3.10/site-packages/sklearn/utils/validation.py:767: FutureWarning: is_sparse is deprecated and will be removed in a future version. Check `isinstance(dtype, pd.SparseDtype)` instead.\n",
      "  if not hasattr(array, \"sparse\") and array.dtypes.apply(is_sparse).any():\n",
      "/home/karel/.local/lib/python3.10/site-packages/sklearn/utils/validation.py:605: FutureWarning: is_sparse is deprecated and will be removed in a future version. Check `isinstance(dtype, pd.SparseDtype)` instead.\n",
      "  if is_sparse(pd_dtype):\n",
      "/home/karel/.local/lib/python3.10/site-packages/sklearn/utils/validation.py:614: FutureWarning: is_sparse is deprecated and will be removed in a future version. Check `isinstance(dtype, pd.SparseDtype)` instead.\n",
      "  if is_sparse(pd_dtype) or not is_extension_array_dtype(pd_dtype):\n",
      "/home/karel/.local/lib/python3.10/site-packages/sklearn/utils/validation.py:605: FutureWarning: is_sparse is deprecated and will be removed in a future version. Check `isinstance(dtype, pd.SparseDtype)` instead.\n",
      "  if is_sparse(pd_dtype):\n",
      "/home/karel/.local/lib/python3.10/site-packages/sklearn/utils/validation.py:614: FutureWarning: is_sparse is deprecated and will be removed in a future version. Check `isinstance(dtype, pd.SparseDtype)` instead.\n",
      "  if is_sparse(pd_dtype) or not is_extension_array_dtype(pd_dtype):\n"
     ]
    }
   ],
   "source": [
    "# Define the Random Forest model\n",
    "random_forest = LinearRegression()\n",
    "\n",
    "random_forest.fit(X_train, y_train)\n",
    "y_pred = random_forest.predict(X_test)\n",
    "\n",
    "# mean absolute error\n",
    "mae = mean_absolute_error(y_true=y_test, y_pred=y_pred)\n",
    "\n",
    "print(mae)"
   ]
  },
  {
   "cell_type": "code",
   "execution_count": 55,
   "metadata": {},
   "outputs": [],
   "source": [
    "# feature engineering: convert facial expressions to emotions (according to \n",
    "# https://imotions.com/blog/learning/research-fundamentals/facial-action-coding-system/#head-movement-action-units)\n",
    "\n",
    "X_emotions = pd.DataFrame({\n",
    "    \"joy\": X_normalized[[\"AU06_r\", \"AU12_r\"]].mean(axis=1),\n",
    "    \"sadness\": X_normalized[[\"AU01_r\", \"AU04_r\", \"AU15_r\"]].mean(axis=1),\n",
    "    \"surprise\": X_normalized[[\"AU01_r\", \"AU02_r\", \"AU05_r\", \"AU26_r\"]].mean(axis=1),                       \n",
    "    \"fear\": X_normalized[[\"AU01_r\", \"AU02_r\", \"AU04_r\", \"AU05_r\", \"AU07_r\", \"AU20_r\", \"AU26_r\"]].mean(axis=1),\n",
    "    \"anger\": X_normalized[[\"AU04_r\", \"AU05_r\", \"AU07_r\", \"AU23_r\"]].mean(axis=1),\n",
    "    \"disgust\": X_normalized[[\"AU09_r\", \"AU15_r\", \"AU25_r\"]].mean(axis=1), # there should be AU16_r instead of \n",
    "    # AU25_r, but the dataset does not contain AU16_r and AU25_r should be correlated with AU16_r\n",
    "    \"contempt\": X_normalized[[\"AU12_r\", \"AU14_r\"]].mean(axis=1)\n",
    "})\n"
   ]
  },
  {
   "cell_type": "code",
   "execution_count": 59,
   "metadata": {},
   "outputs": [
    {
     "name": "stdout",
     "output_type": "stream",
     "text": [
      "0.058536685363640685\n"
     ]
    },
    {
     "name": "stderr",
     "output_type": "stream",
     "text": [
      "/home/karel/.local/lib/python3.10/site-packages/sklearn/utils/validation.py:767: FutureWarning: is_sparse is deprecated and will be removed in a future version. Check `isinstance(dtype, pd.SparseDtype)` instead.\n",
      "  if not hasattr(array, \"sparse\") and array.dtypes.apply(is_sparse).any():\n",
      "/home/karel/.local/lib/python3.10/site-packages/sklearn/utils/validation.py:605: FutureWarning: is_sparse is deprecated and will be removed in a future version. Check `isinstance(dtype, pd.SparseDtype)` instead.\n",
      "  if is_sparse(pd_dtype):\n",
      "/home/karel/.local/lib/python3.10/site-packages/sklearn/utils/validation.py:614: FutureWarning: is_sparse is deprecated and will be removed in a future version. Check `isinstance(dtype, pd.SparseDtype)` instead.\n",
      "  if is_sparse(pd_dtype) or not is_extension_array_dtype(pd_dtype):\n",
      "/home/karel/.local/lib/python3.10/site-packages/sklearn/utils/validation.py:605: FutureWarning: is_sparse is deprecated and will be removed in a future version. Check `isinstance(dtype, pd.SparseDtype)` instead.\n",
      "  if is_sparse(pd_dtype):\n",
      "/home/karel/.local/lib/python3.10/site-packages/sklearn/utils/validation.py:614: FutureWarning: is_sparse is deprecated and will be removed in a future version. Check `isinstance(dtype, pd.SparseDtype)` instead.\n",
      "  if is_sparse(pd_dtype) or not is_extension_array_dtype(pd_dtype):\n",
      "/home/karel/.local/lib/python3.10/site-packages/sklearn/utils/validation.py:767: FutureWarning: is_sparse is deprecated and will be removed in a future version. Check `isinstance(dtype, pd.SparseDtype)` instead.\n",
      "  if not hasattr(array, \"sparse\") and array.dtypes.apply(is_sparse).any():\n",
      "/home/karel/.local/lib/python3.10/site-packages/sklearn/utils/validation.py:605: FutureWarning: is_sparse is deprecated and will be removed in a future version. Check `isinstance(dtype, pd.SparseDtype)` instead.\n",
      "  if is_sparse(pd_dtype):\n",
      "/home/karel/.local/lib/python3.10/site-packages/sklearn/utils/validation.py:614: FutureWarning: is_sparse is deprecated and will be removed in a future version. Check `isinstance(dtype, pd.SparseDtype)` instead.\n",
      "  if is_sparse(pd_dtype) or not is_extension_array_dtype(pd_dtype):\n",
      "/home/karel/.local/lib/python3.10/site-packages/sklearn/utils/validation.py:605: FutureWarning: is_sparse is deprecated and will be removed in a future version. Check `isinstance(dtype, pd.SparseDtype)` instead.\n",
      "  if is_sparse(pd_dtype):\n",
      "/home/karel/.local/lib/python3.10/site-packages/sklearn/utils/validation.py:614: FutureWarning: is_sparse is deprecated and will be removed in a future version. Check `isinstance(dtype, pd.SparseDtype)` instead.\n",
      "  if is_sparse(pd_dtype) or not is_extension_array_dtype(pd_dtype):\n"
     ]
    }
   ],
   "source": [
    "# Split the dataset into training and testing part\n",
    "X_train_emot, X_test_emot, y_train_emot, y_test_emot = train_test_split(X_emotions, y_normalized, test_size=0.1, random_state=69)\n",
    "\n",
    "# Define the Random Forest model\n",
    "random_forest_emot = LinearRegression()\n",
    "\n",
    "random_forest_emot.fit(X_train_emot, y_train_emot)\n",
    "y_pred_emot = random_forest_emot.predict(X_test_emot)\n",
    "\n",
    "# mean absolute error\n",
    "mae_emot = mean_absolute_error(y_true=y_test_emot, y_pred=y_pred_emot)\n",
    "\n",
    "print(mae_emot)"
   ]
  },
  {
   "cell_type": "code",
   "execution_count": 57,
   "metadata": {},
   "outputs": [],
   "source": [
    "# # print correlation matrix to file\n",
    "# with open('facial_video_correlation.html', 'w') as f:\n",
    "#     print(facial_video.corr().abs().style.background_gradient().to_html(), file=f)\n",
    "# \n",
    "# # show correlation matrix\n",
    "# px.imshow(selected_columns.corr(),title=\"NTNU dataset\")"
   ]
  },
  {
   "cell_type": "code",
   "execution_count": 58,
   "metadata": {},
   "outputs": [
    {
     "ename": "NameError",
     "evalue": "name 'y_' is not defined",
     "output_type": "error",
     "traceback": [
      "\u001b[0;31m---------------------------------------------------------------------------\u001b[0m",
      "\u001b[0;31mNameError\u001b[0m                                 Traceback (most recent call last)",
      "\u001b[1;32m/home/karel/Documents/FEL_CVUT/semestr_07/TDT4259_applied_data_science/Multimodal-Learning-Analytics/solutions/Karel/facial_video.ipynb Cell 14\u001b[0m line \u001b[0;36m1\n\u001b[0;32m----> <a href='vscode-notebook-cell:/home/karel/Documents/FEL_CVUT/semestr_07/TDT4259_applied_data_science/Multimodal-Learning-Analytics/solutions/Karel/facial_video.ipynb#X24sZmlsZQ%3D%3D?line=0'>1</a>\u001b[0m y_\n",
      "\u001b[0;31mNameError\u001b[0m: name 'y_' is not defined"
     ]
    }
   ],
   "source": [
    "y_"
   ]
  }
 ],
 "metadata": {
  "kernelspec": {
   "display_name": "Python 3",
   "language": "python",
   "name": "python3"
  },
  "language_info": {
   "codemirror_mode": {
    "name": "ipython",
    "version": 3
   },
   "file_extension": ".py",
   "mimetype": "text/x-python",
   "name": "python",
   "nbconvert_exporter": "python",
   "pygments_lexer": "ipython3",
   "version": "3.10.13"
  }
 },
 "nbformat": 4,
 "nbformat_minor": 0
}
