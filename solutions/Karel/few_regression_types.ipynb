{
 "cells": [
  {
   "cell_type": "markdown",
   "metadata": {
    "collapsed": false
   },
   "source": [
    "In this notebook, several regression types are tried on the raw dataset. It loads the dataset, splits it to the training part (90%) and testing part (10%). No feature engineering is performed."
   ]
  },
  {
   "cell_type": "code",
   "execution_count": 19,
   "metadata": {
    "ExecuteTime": {
     "end_time": "2023-09-29T14:11:53.826308270Z",
     "start_time": "2023-09-29T14:11:53.729437294Z"
    },
    "collapsed": false
   },
   "outputs": [
    {
     "name": "stdout",
     "output_type": "stream",
     "text": [
      "The autoreload extension is already loaded. To reload it, use:\n",
      "  %reload_ext autoreload\n"
     ]
    }
   ],
   "source": [
    "%load_ext autoreload"
   ]
  },
  {
   "cell_type": "markdown",
   "metadata": {
    "collapsed": false
   },
   "source": [
    "Load libraries"
   ]
  },
  {
   "cell_type": "code",
   "execution_count": 26,
   "metadata": {
    "ExecuteTime": {
     "end_time": "2023-09-29T14:11:53.828966592Z",
     "start_time": "2023-09-29T14:11:53.793204456Z"
    },
    "collapsed": true
   },
   "outputs": [],
   "source": [
    "%autoreload\n",
    "\n",
    "# load libraries\n",
    "import pandas as pd\n",
    "import numpy as np\n",
    "from sklearn.model_selection import train_test_split\n",
    "from sklearn.metrics import mean_absolute_error\n",
    "from sklearn.linear_model import LinearRegression\n",
    "from sklearn.preprocessing import StandardScaler\n",
    "import matplotlib.pyplot as plt"
   ]
  },
  {
   "cell_type": "code",
   "execution_count": 27,
   "metadata": {
    "ExecuteTime": {
     "end_time": "2023-09-29T14:11:53.849507476Z",
     "start_time": "2023-09-29T14:11:53.793593165Z"
    },
    "collapsed": false
   },
   "outputs": [],
   "source": [
    "# read the dataset\n",
    "dataset = pd.read_csv('../../dataset/dataset.csv')\n",
    "\n",
    "# Define the features and the target variable\n",
    "target_variable = 'score'\n",
    "X = dataset.drop(columns=[target_variable])\n",
    "y = dataset[target_variable]\n",
    "\n",
    "# Split the dataset into training and testing part\n",
    "X_train, X_test, y_train, y_test = train_test_split(X, y, test_size=0.1, random_state=42)"
   ]
  },
  {
   "cell_type": "code",
   "execution_count": 28,
   "metadata": {},
   "outputs": [
    {
     "name": "stdout",
     "output_type": "stream",
     "text": [
      "(192, 90)\n",
      "(172, 89)\n",
      "(172,)\n",
      "(20, 89)\n",
      "(20,)\n"
     ]
    }
   ],
   "source": [
    "print(dataset.shape)\n",
    "print(X_train.shape)\n",
    "print(y_train.shape)\n",
    "print(X_test.shape)\n",
    "print(y_test.shape)"
   ]
  },
  {
   "cell_type": "code",
   "execution_count": 29,
   "metadata": {
    "ExecuteTime": {
     "end_time": "2023-09-29T14:11:53.913023039Z",
     "start_time": "2023-09-29T14:11:53.844549551Z"
    },
    "collapsed": false
   },
   "outputs": [
    {
     "data": {
      "text/html": [
       "<div>\n",
       "<style scoped>\n",
       "    .dataframe tbody tr th:only-of-type {\n",
       "        vertical-align: middle;\n",
       "    }\n",
       "\n",
       "    .dataframe tbody tr th {\n",
       "        vertical-align: top;\n",
       "    }\n",
       "\n",
       "    .dataframe thead th {\n",
       "        text-align: right;\n",
       "    }\n",
       "</style>\n",
       "<table border=\"1\" class=\"dataframe\">\n",
       "  <thead>\n",
       "    <tr style=\"text-align: right;\">\n",
       "      <th></th>\n",
       "      <th>V1</th>\n",
       "      <th>V2</th>\n",
       "      <th>V3</th>\n",
       "      <th>V4</th>\n",
       "      <th>V5</th>\n",
       "      <th>V6</th>\n",
       "      <th>V7</th>\n",
       "      <th>V8</th>\n",
       "      <th>V9</th>\n",
       "      <th>V10</th>\n",
       "      <th>...</th>\n",
       "      <th>AU26_r</th>\n",
       "      <th>AU45_r</th>\n",
       "      <th>bvpMean</th>\n",
       "      <th>bvpSD</th>\n",
       "      <th>edaMean</th>\n",
       "      <th>edaSD</th>\n",
       "      <th>hrMean</th>\n",
       "      <th>hrSD</th>\n",
       "      <th>tempMean</th>\n",
       "      <th>tempSD</th>\n",
       "    </tr>\n",
       "  </thead>\n",
       "  <tbody>\n",
       "    <tr>\n",
       "      <th>171</th>\n",
       "      <td>4.404851e+08</td>\n",
       "      <td>1.311308e+08</td>\n",
       "      <td>5.049441e+09</td>\n",
       "      <td>4.196730e+08</td>\n",
       "      <td>1.115163e+08</td>\n",
       "      <td>4.727086e+09</td>\n",
       "      <td>2.429141e+07</td>\n",
       "      <td>2.376411e+07</td>\n",
       "      <td>6.885687e+07</td>\n",
       "      <td>4.904046e+08</td>\n",
       "      <td>...</td>\n",
       "      <td>0.451754</td>\n",
       "      <td>0.705448</td>\n",
       "      <td>0.147200</td>\n",
       "      <td>0.045858</td>\n",
       "      <td>0.000702</td>\n",
       "      <td>26.024393</td>\n",
       "      <td>68.928112</td>\n",
       "      <td>2.926986</td>\n",
       "      <td>29.804768</td>\n",
       "      <td>0.916886</td>\n",
       "    </tr>\n",
       "    <tr>\n",
       "      <th>154</th>\n",
       "      <td>7.239636e+06</td>\n",
       "      <td>8.170686e+06</td>\n",
       "      <td>2.621700e+07</td>\n",
       "      <td>4.342179e+08</td>\n",
       "      <td>1.204079e+08</td>\n",
       "      <td>5.606102e+09</td>\n",
       "      <td>8.647074e+07</td>\n",
       "      <td>7.706806e+07</td>\n",
       "      <td>2.529185e+08</td>\n",
       "      <td>3.126816e+07</td>\n",
       "      <td>...</td>\n",
       "      <td>0.535220</td>\n",
       "      <td>0.155112</td>\n",
       "      <td>2.597406</td>\n",
       "      <td>1.389005</td>\n",
       "      <td>0.060457</td>\n",
       "      <td>48.827638</td>\n",
       "      <td>81.292703</td>\n",
       "      <td>17.191935</td>\n",
       "      <td>31.752441</td>\n",
       "      <td>4.707453</td>\n",
       "    </tr>\n",
       "    <tr>\n",
       "      <th>118</th>\n",
       "      <td>1.785853e+08</td>\n",
       "      <td>8.682056e+07</td>\n",
       "      <td>7.418208e+08</td>\n",
       "      <td>9.282951e+07</td>\n",
       "      <td>7.240862e+07</td>\n",
       "      <td>2.226409e+08</td>\n",
       "      <td>5.745947e+07</td>\n",
       "      <td>3.631179e+07</td>\n",
       "      <td>2.275878e+08</td>\n",
       "      <td>1.100307e+08</td>\n",
       "      <td>...</td>\n",
       "      <td>0.129721</td>\n",
       "      <td>0.089213</td>\n",
       "      <td>1.056684</td>\n",
       "      <td>0.305653</td>\n",
       "      <td>-0.011069</td>\n",
       "      <td>70.943485</td>\n",
       "      <td>74.424331</td>\n",
       "      <td>3.771930</td>\n",
       "      <td>29.488789</td>\n",
       "      <td>0.123848</td>\n",
       "    </tr>\n",
       "    <tr>\n",
       "      <th>98</th>\n",
       "      <td>6.566649e+08</td>\n",
       "      <td>3.884034e+08</td>\n",
       "      <td>5.526463e+09</td>\n",
       "      <td>1.601020e+08</td>\n",
       "      <td>5.707375e+07</td>\n",
       "      <td>2.627991e+09</td>\n",
       "      <td>3.659389e+07</td>\n",
       "      <td>2.206944e+07</td>\n",
       "      <td>3.396292e+08</td>\n",
       "      <td>7.820764e+08</td>\n",
       "      <td>...</td>\n",
       "      <td>0.102364</td>\n",
       "      <td>0.545976</td>\n",
       "      <td>0.459527</td>\n",
       "      <td>0.173697</td>\n",
       "      <td>0.001542</td>\n",
       "      <td>58.072838</td>\n",
       "      <td>85.498165</td>\n",
       "      <td>11.850344</td>\n",
       "      <td>31.233476</td>\n",
       "      <td>1.372200</td>\n",
       "    </tr>\n",
       "    <tr>\n",
       "      <th>67</th>\n",
       "      <td>4.121355e+07</td>\n",
       "      <td>1.271017e+07</td>\n",
       "      <td>3.492935e+08</td>\n",
       "      <td>9.544370e+06</td>\n",
       "      <td>7.447917e+06</td>\n",
       "      <td>8.233532e+07</td>\n",
       "      <td>7.813994e+07</td>\n",
       "      <td>4.007237e+07</td>\n",
       "      <td>5.660280e+08</td>\n",
       "      <td>1.994581e+07</td>\n",
       "      <td>...</td>\n",
       "      <td>0.075930</td>\n",
       "      <td>0.044395</td>\n",
       "      <td>2.775224</td>\n",
       "      <td>1.234032</td>\n",
       "      <td>0.019598</td>\n",
       "      <td>46.891758</td>\n",
       "      <td>79.440945</td>\n",
       "      <td>11.297236</td>\n",
       "      <td>33.697428</td>\n",
       "      <td>0.247517</td>\n",
       "    </tr>\n",
       "  </tbody>\n",
       "</table>\n",
       "<p>5 rows × 89 columns</p>\n",
       "</div>"
      ],
      "text/plain": [
       "               V1            V2            V3            V4            V5  \\\n",
       "171  4.404851e+08  1.311308e+08  5.049441e+09  4.196730e+08  1.115163e+08   \n",
       "154  7.239636e+06  8.170686e+06  2.621700e+07  4.342179e+08  1.204079e+08   \n",
       "118  1.785853e+08  8.682056e+07  7.418208e+08  9.282951e+07  7.240862e+07   \n",
       "98   6.566649e+08  3.884034e+08  5.526463e+09  1.601020e+08  5.707375e+07   \n",
       "67   4.121355e+07  1.271017e+07  3.492935e+08  9.544370e+06  7.447917e+06   \n",
       "\n",
       "               V6            V7            V8            V9           V10  \\\n",
       "171  4.727086e+09  2.429141e+07  2.376411e+07  6.885687e+07  4.904046e+08   \n",
       "154  5.606102e+09  8.647074e+07  7.706806e+07  2.529185e+08  3.126816e+07   \n",
       "118  2.226409e+08  5.745947e+07  3.631179e+07  2.275878e+08  1.100307e+08   \n",
       "98   2.627991e+09  3.659389e+07  2.206944e+07  3.396292e+08  7.820764e+08   \n",
       "67   8.233532e+07  7.813994e+07  4.007237e+07  5.660280e+08  1.994581e+07   \n",
       "\n",
       "     ...    AU26_r    AU45_r   bvpMean     bvpSD   edaMean      edaSD  \\\n",
       "171  ...  0.451754  0.705448  0.147200  0.045858  0.000702  26.024393   \n",
       "154  ...  0.535220  0.155112  2.597406  1.389005  0.060457  48.827638   \n",
       "118  ...  0.129721  0.089213  1.056684  0.305653 -0.011069  70.943485   \n",
       "98   ...  0.102364  0.545976  0.459527  0.173697  0.001542  58.072838   \n",
       "67   ...  0.075930  0.044395  2.775224  1.234032  0.019598  46.891758   \n",
       "\n",
       "        hrMean       hrSD   tempMean    tempSD  \n",
       "171  68.928112   2.926986  29.804768  0.916886  \n",
       "154  81.292703  17.191935  31.752441  4.707453  \n",
       "118  74.424331   3.771930  29.488789  0.123848  \n",
       "98   85.498165  11.850344  31.233476  1.372200  \n",
       "67   79.440945  11.297236  33.697428  0.247517  \n",
       "\n",
       "[5 rows x 89 columns]"
      ]
     },
     "execution_count": 29,
     "metadata": {},
     "output_type": "execute_result"
    }
   ],
   "source": [
    "X_train.head()"
   ]
  },
  {
   "cell_type": "code",
   "execution_count": 25,
   "metadata": {
    "ExecuteTime": {
     "end_time": "2023-09-29T14:11:53.913506299Z",
     "start_time": "2023-09-29T14:11:53.885443255Z"
    },
    "collapsed": false
   },
   "outputs": [
    {
     "name": "stdout",
     "output_type": "stream",
     "text": [
      "mean absolute error of linear regression predictions: 1.180681057221099\n"
     ]
    },
    {
     "name": "stderr",
     "output_type": "stream",
     "text": [
      "/home/karel/.local/lib/python3.10/site-packages/sklearn/utils/validation.py:767: FutureWarning: is_sparse is deprecated and will be removed in a future version. Check `isinstance(dtype, pd.SparseDtype)` instead.\n",
      "  if not hasattr(array, \"sparse\") and array.dtypes.apply(is_sparse).any():\n",
      "/home/karel/.local/lib/python3.10/site-packages/sklearn/utils/validation.py:605: FutureWarning: is_sparse is deprecated and will be removed in a future version. Check `isinstance(dtype, pd.SparseDtype)` instead.\n",
      "  if is_sparse(pd_dtype):\n",
      "/home/karel/.local/lib/python3.10/site-packages/sklearn/utils/validation.py:614: FutureWarning: is_sparse is deprecated and will be removed in a future version. Check `isinstance(dtype, pd.SparseDtype)` instead.\n",
      "  if is_sparse(pd_dtype) or not is_extension_array_dtype(pd_dtype):\n",
      "/home/karel/.local/lib/python3.10/site-packages/sklearn/utils/validation.py:605: FutureWarning: is_sparse is deprecated and will be removed in a future version. Check `isinstance(dtype, pd.SparseDtype)` instead.\n",
      "  if is_sparse(pd_dtype):\n",
      "/home/karel/.local/lib/python3.10/site-packages/sklearn/utils/validation.py:614: FutureWarning: is_sparse is deprecated and will be removed in a future version. Check `isinstance(dtype, pd.SparseDtype)` instead.\n",
      "  if is_sparse(pd_dtype) or not is_extension_array_dtype(pd_dtype):\n",
      "/home/karel/.local/lib/python3.10/site-packages/sklearn/utils/validation.py:767: FutureWarning: is_sparse is deprecated and will be removed in a future version. Check `isinstance(dtype, pd.SparseDtype)` instead.\n",
      "  if not hasattr(array, \"sparse\") and array.dtypes.apply(is_sparse).any():\n",
      "/home/karel/.local/lib/python3.10/site-packages/sklearn/utils/validation.py:605: FutureWarning: is_sparse is deprecated and will be removed in a future version. Check `isinstance(dtype, pd.SparseDtype)` instead.\n",
      "  if is_sparse(pd_dtype):\n",
      "/home/karel/.local/lib/python3.10/site-packages/sklearn/utils/validation.py:614: FutureWarning: is_sparse is deprecated and will be removed in a future version. Check `isinstance(dtype, pd.SparseDtype)` instead.\n",
      "  if is_sparse(pd_dtype) or not is_extension_array_dtype(pd_dtype):\n",
      "/home/karel/.local/lib/python3.10/site-packages/sklearn/utils/validation.py:605: FutureWarning: is_sparse is deprecated and will be removed in a future version. Check `isinstance(dtype, pd.SparseDtype)` instead.\n",
      "  if is_sparse(pd_dtype):\n",
      "/home/karel/.local/lib/python3.10/site-packages/sklearn/utils/validation.py:614: FutureWarning: is_sparse is deprecated and will be removed in a future version. Check `isinstance(dtype, pd.SparseDtype)` instead.\n",
      "  if is_sparse(pd_dtype) or not is_extension_array_dtype(pd_dtype):\n"
     ]
    }
   ],
   "source": [
    "# Create and train the linear regression model\n",
    "lin_reg = LinearRegression()\n",
    "lin_reg.fit(X_train, y_train)\n",
    "\n",
    "# Make predictions on the test set\n",
    "y_pred = lin_reg.predict(X_test)\n",
    "\n",
    "# calculate the mean absolute error\n",
    "mae = mean_absolute_error(y_true=y_test, y_pred=y_pred)\n",
    "\n",
    "print(f\"mean absolute error of linear regression predictions: {mae}\")"
   ]
  },
  {
   "cell_type": "code",
   "execution_count": null,
   "metadata": {},
   "outputs": [],
   "source": []
  }
 ],
 "metadata": {
  "kernelspec": {
   "display_name": "Python 3",
   "language": "python",
   "name": "python3"
  },
  "language_info": {
   "codemirror_mode": {
    "name": "ipython",
    "version": 3
   },
   "file_extension": ".py",
   "mimetype": "text/x-python",
   "name": "python",
   "nbconvert_exporter": "python",
   "pygments_lexer": "ipython3",
   "version": "3.10.13"
  }
 },
 "nbformat": 4,
 "nbformat_minor": 0
}
